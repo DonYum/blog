{
 "cells": [
  {
   "cell_type": "markdown",
   "metadata": {},
   "source": [
    "# 异常点检测模型实验\n",
    "> 一个小测试。\n",
    "\n",
    "- toc: true \n",
    "- badges: true\n",
    "- comments: true\n",
    "- categories: [jupyter]"
   ]
  },
  {
   "cell_type": "code",
   "execution_count": 403,
   "metadata": {},
   "outputs": [],
   "source": [
    "import sys\n",
    "import time\n",
    "# import logging\n",
    "import datetime\n",
    "from pathlib import Path\n",
    "import numpy as np\n",
    "import pandas as pd\n",
    "from pandas.tseries.offsets import *\n",
    "\n",
    "# import plotly_express as px\n",
    "# import cufflinks as cf\n",
    "\n",
    "from sklearn import preprocessing\n",
    "\n",
    "from tqdm import tqdm_notebook as tqdm"
   ]
  },
  {
   "cell_type": "code",
   "execution_count": null,
   "metadata": {},
   "outputs": [],
   "source": []
  },
  {
   "cell_type": "markdown",
   "metadata": {},
   "source": [
    "# 数据加载"
   ]
  },
  {
   "cell_type": "code",
   "execution_count": 412,
   "metadata": {},
   "outputs": [
    {
     "data": {
      "text/html": [
       "<div>\n",
       "<style scoped>\n",
       "    .dataframe tbody tr th:only-of-type {\n",
       "        vertical-align: middle;\n",
       "    }\n",
       "\n",
       "    .dataframe tbody tr th {\n",
       "        vertical-align: top;\n",
       "    }\n",
       "\n",
       "    .dataframe thead th {\n",
       "        text-align: right;\n",
       "    }\n",
       "</style>\n",
       "<table border=\"1\" class=\"dataframe\">\n",
       "  <thead>\n",
       "    <tr style=\"text-align: right;\">\n",
       "      <th></th>\n",
       "      <th>交易时间</th>\n",
       "      <th>交易金额</th>\n",
       "      <th>转账附言</th>\n",
       "      <th>渠道</th>\n",
       "      <th>发起方id</th>\n",
       "      <th>发起方年龄</th>\n",
       "      <th>发起方所处地区</th>\n",
       "      <th>接收方ID</th>\n",
       "    </tr>\n",
       "  </thead>\n",
       "  <tbody>\n",
       "    <tr>\n",
       "      <th>0</th>\n",
       "      <td>2017-12-23 00:07:36</td>\n",
       "      <td>1989200</td>\n",
       "      <td>转账</td>\n",
       "      <td>普通转账</td>\n",
       "      <td>3655</td>\n",
       "      <td>22</td>\n",
       "      <td>广东</td>\n",
       "      <td>44</td>\n",
       "    </tr>\n",
       "    <tr>\n",
       "      <th>1</th>\n",
       "      <td>2017-12-23 00:08:25</td>\n",
       "      <td>4802500</td>\n",
       "      <td>-</td>\n",
       "      <td>线下付款</td>\n",
       "      <td>2703</td>\n",
       "      <td>50</td>\n",
       "      <td>新疆</td>\n",
       "      <td>47</td>\n",
       "    </tr>\n",
       "    <tr>\n",
       "      <th>2</th>\n",
       "      <td>2017-12-23 00:12:37</td>\n",
       "      <td>3254000</td>\n",
       "      <td>-</td>\n",
       "      <td>线上付款</td>\n",
       "      <td>3476</td>\n",
       "      <td>36</td>\n",
       "      <td>安徽</td>\n",
       "      <td>92</td>\n",
       "    </tr>\n",
       "    <tr>\n",
       "      <th>3</th>\n",
       "      <td>2017-12-23 00:12:50</td>\n",
       "      <td>3458600</td>\n",
       "      <td>-</td>\n",
       "      <td>线下付款</td>\n",
       "      <td>6017</td>\n",
       "      <td>31</td>\n",
       "      <td>贵州</td>\n",
       "      <td>43</td>\n",
       "    </tr>\n",
       "    <tr>\n",
       "      <th>4</th>\n",
       "      <td>2017-12-23 00:13:21</td>\n",
       "      <td>2085400</td>\n",
       "      <td>奖金</td>\n",
       "      <td>普通转账</td>\n",
       "      <td>1904</td>\n",
       "      <td>37</td>\n",
       "      <td>云南</td>\n",
       "      <td>18</td>\n",
       "    </tr>\n",
       "    <tr>\n",
       "      <th>...</th>\n",
       "      <td>...</td>\n",
       "      <td>...</td>\n",
       "      <td>...</td>\n",
       "      <td>...</td>\n",
       "      <td>...</td>\n",
       "      <td>...</td>\n",
       "      <td>...</td>\n",
       "      <td>...</td>\n",
       "    </tr>\n",
       "    <tr>\n",
       "      <th>20016</th>\n",
       "      <td>2018-02-28 14:07:39</td>\n",
       "      <td>2515300</td>\n",
       "      <td>上次买的xx</td>\n",
       "      <td>跨境转账</td>\n",
       "      <td>304</td>\n",
       "      <td>23</td>\n",
       "      <td>美国</td>\n",
       "      <td>71</td>\n",
       "    </tr>\n",
       "    <tr>\n",
       "      <th>20017</th>\n",
       "      <td>2018-02-28 14:35:16</td>\n",
       "      <td>4910500</td>\n",
       "      <td>李xx给张xx的钱</td>\n",
       "      <td>普通转账</td>\n",
       "      <td>3689</td>\n",
       "      <td>32</td>\n",
       "      <td>黑龙江</td>\n",
       "      <td>55</td>\n",
       "    </tr>\n",
       "    <tr>\n",
       "      <th>20018</th>\n",
       "      <td>2018-02-28 14:40:07</td>\n",
       "      <td>3096400</td>\n",
       "      <td>李xx给张xx的钱</td>\n",
       "      <td>普通转账</td>\n",
       "      <td>320</td>\n",
       "      <td>35</td>\n",
       "      <td>上海</td>\n",
       "      <td>24</td>\n",
       "    </tr>\n",
       "    <tr>\n",
       "      <th>20019</th>\n",
       "      <td>2018-02-28 14:41:10</td>\n",
       "      <td>3661000</td>\n",
       "      <td>还给你</td>\n",
       "      <td>普通转账</td>\n",
       "      <td>3909</td>\n",
       "      <td>42</td>\n",
       "      <td>上海</td>\n",
       "      <td>90</td>\n",
       "    </tr>\n",
       "    <tr>\n",
       "      <th>20020</th>\n",
       "      <td>2018-02-28 14:45:10</td>\n",
       "      <td>3049800</td>\n",
       "      <td>奖金</td>\n",
       "      <td>跨境转账</td>\n",
       "      <td>2525</td>\n",
       "      <td>31</td>\n",
       "      <td>美国</td>\n",
       "      <td>32</td>\n",
       "    </tr>\n",
       "  </tbody>\n",
       "</table>\n",
       "<p>20021 rows × 8 columns</p>\n",
       "</div>"
      ],
      "text/plain": [
       "                      交易时间     交易金额       转账附言    渠道  发起方id  发起方年龄 发起方所处地区  \\\n",
       "0      2017-12-23 00:07:36  1989200         转账  普通转账   3655     22      广东   \n",
       "1      2017-12-23 00:08:25  4802500          -  线下付款   2703     50      新疆   \n",
       "2      2017-12-23 00:12:37  3254000          -  线上付款   3476     36      安徽   \n",
       "3      2017-12-23 00:12:50  3458600          -  线下付款   6017     31      贵州   \n",
       "4      2017-12-23 00:13:21  2085400         奖金  普通转账   1904     37      云南   \n",
       "...                    ...      ...        ...   ...    ...    ...     ...   \n",
       "20016  2018-02-28 14:07:39  2515300     上次买的xx  跨境转账    304     23      美国   \n",
       "20017  2018-02-28 14:35:16  4910500  李xx给张xx的钱  普通转账   3689     32     黑龙江   \n",
       "20018  2018-02-28 14:40:07  3096400  李xx给张xx的钱  普通转账    320     35      上海   \n",
       "20019  2018-02-28 14:41:10  3661000        还给你  普通转账   3909     42      上海   \n",
       "20020  2018-02-28 14:45:10  3049800         奖金  跨境转账   2525     31      美国   \n",
       "\n",
       "       接收方ID  \n",
       "0         44  \n",
       "1         47  \n",
       "2         92  \n",
       "3         43  \n",
       "4         18  \n",
       "...      ...  \n",
       "20016     71  \n",
       "20017     55  \n",
       "20018     24  \n",
       "20019     90  \n",
       "20020     32  \n",
       "\n",
       "[20021 rows x 8 columns]"
      ]
     },
     "execution_count": 412,
     "metadata": {},
     "output_type": "execute_result"
    }
   ],
   "source": [
    "#collapse-show\n",
    "df = pd.read_csv('./sample_21.txt')\n",
    "df"
   ]
  },
  {
   "cell_type": "code",
   "execution_count": 411,
   "metadata": {},
   "outputs": [
    {
     "data": {
      "text/html": [
       "<div>\n",
       "<style scoped>\n",
       "    .dataframe tbody tr th:only-of-type {\n",
       "        vertical-align: middle;\n",
       "    }\n",
       "\n",
       "    .dataframe tbody tr th {\n",
       "        vertical-align: top;\n",
       "    }\n",
       "\n",
       "    .dataframe thead th {\n",
       "        text-align: right;\n",
       "    }\n",
       "</style>\n",
       "<table border=\"1\" class=\"dataframe\">\n",
       "  <thead>\n",
       "    <tr style=\"text-align: right;\">\n",
       "      <th></th>\n",
       "      <th>cash_amount</th>\n",
       "      <th>starter_id</th>\n",
       "      <th>starter_age</th>\n",
       "      <th>receiver_id</th>\n",
       "    </tr>\n",
       "  </thead>\n",
       "  <tbody>\n",
       "    <tr>\n",
       "      <th>count</th>\n",
       "      <td>2.002100e+04</td>\n",
       "      <td>20021.000000</td>\n",
       "      <td>20021.000000</td>\n",
       "      <td>20021.000000</td>\n",
       "    </tr>\n",
       "    <tr>\n",
       "      <th>mean</th>\n",
       "      <td>2.509762e+06</td>\n",
       "      <td>3498.215674</td>\n",
       "      <td>33.934369</td>\n",
       "      <td>51.956895</td>\n",
       "    </tr>\n",
       "    <tr>\n",
       "      <th>std</th>\n",
       "      <td>1.446299e+06</td>\n",
       "      <td>2013.401076</td>\n",
       "      <td>9.564053</td>\n",
       "      <td>80.228028</td>\n",
       "    </tr>\n",
       "    <tr>\n",
       "      <th>min</th>\n",
       "      <td>1.010000e+04</td>\n",
       "      <td>1.000000</td>\n",
       "      <td>18.000000</td>\n",
       "      <td>1.000000</td>\n",
       "    </tr>\n",
       "    <tr>\n",
       "      <th>25%</th>\n",
       "      <td>1.264900e+06</td>\n",
       "      <td>1754.000000</td>\n",
       "      <td>26.000000</td>\n",
       "      <td>26.000000</td>\n",
       "    </tr>\n",
       "    <tr>\n",
       "      <th>50%</th>\n",
       "      <td>2.492100e+06</td>\n",
       "      <td>3500.000000</td>\n",
       "      <td>34.000000</td>\n",
       "      <td>51.000000</td>\n",
       "    </tr>\n",
       "    <tr>\n",
       "      <th>75%</th>\n",
       "      <td>3.751800e+06</td>\n",
       "      <td>5238.000000</td>\n",
       "      <td>42.000000</td>\n",
       "      <td>76.000000</td>\n",
       "    </tr>\n",
       "    <tr>\n",
       "      <th>max</th>\n",
       "      <td>8.888800e+06</td>\n",
       "      <td>7000.000000</td>\n",
       "      <td>88.000000</td>\n",
       "      <td>6258.000000</td>\n",
       "    </tr>\n",
       "  </tbody>\n",
       "</table>\n",
       "</div>"
      ],
      "text/plain": [
       "        cash_amount    starter_id   starter_age   receiver_id\n",
       "count  2.002100e+04  20021.000000  20021.000000  20021.000000\n",
       "mean   2.509762e+06   3498.215674     33.934369     51.956895\n",
       "std    1.446299e+06   2013.401076      9.564053     80.228028\n",
       "min    1.010000e+04      1.000000     18.000000      1.000000\n",
       "25%    1.264900e+06   1754.000000     26.000000     26.000000\n",
       "50%    2.492100e+06   3500.000000     34.000000     51.000000\n",
       "75%    3.751800e+06   5238.000000     42.000000     76.000000\n",
       "max    8.888800e+06   7000.000000     88.000000   6258.000000"
      ]
     },
     "execution_count": 411,
     "metadata": {},
     "output_type": "execute_result"
    }
   ],
   "source": [
    "df.columns = ['time', 'cash_amount', 'comment', 'channel', 'starter_id', 'starter_age', 'starter_area', 'receiver_id']\n",
    "\n",
    "df.describe()"
   ]
  },
  {
   "cell_type": "code",
   "execution_count": null,
   "metadata": {},
   "outputs": [],
   "source": []
  },
  {
   "cell_type": "markdown",
   "metadata": {},
   "source": [
    "# 数据探索\n",
    "\n",
    "详见 [《AliAntTest_数据探索及模型选择.pdf》]({{site.baseurl}}/images/AliAntTest_数据探索及模型选择.pdf)。"
   ]
  },
  {
   "cell_type": "code",
   "execution_count": null,
   "metadata": {},
   "outputs": [],
   "source": []
  },
  {
   "cell_type": "markdown",
   "metadata": {},
   "source": [
    "# 特征提取\n",
    "\n",
    "尝试从下面三个维度提取特征，并比较提取特征的优劣：\n",
    "\n",
    "1. 基于事实表的特征提取\n",
    "2. 基于ID之间交易的特征提取\n",
    "3. 基于ID的特征提取\n",
    "\n",
    "> Notes: 其实从数据探索过程中可以发现第3种最好，但实际场景下特征维度会非常多，所以特征提取前期应该尽可能多的探索一下。"
   ]
  },
  {
   "cell_type": "markdown",
   "metadata": {},
   "source": [
    "> Notes: 特征提取方法：连续值用z-score归一化处理，离散值用one-hot方法做稀疏处理。"
   ]
  },
  {
   "cell_type": "markdown",
   "metadata": {},
   "source": [
    "## 基于事实表的特征提取\n",
    "\n",
    "可用于构造特征的维度有：\n",
    "\n",
    "- 交易金额；\n",
    "- 交易数量；\n",
    "- 发起地区；\n",
    "- 年龄；\n",
    "- 渠道；"
   ]
  },
  {
   "cell_type": "markdown",
   "metadata": {},
   "source": [
    "### z-score标准化: 交易金额、年龄"
   ]
  },
  {
   "cell_type": "code",
   "execution_count": 6,
   "metadata": {},
   "outputs": [],
   "source": [
    "z_score_scaler = preprocessing.StandardScaler()\n",
    "z_score_feature = z_score_scaler.fit_transform(df[['cash_amount', 'starter_age']])"
   ]
  },
  {
   "cell_type": "code",
   "execution_count": 7,
   "metadata": {},
   "outputs": [],
   "source": [
    "features = pd.DataFrame(z_score_feature, columns=['cash_amount', 'starter_age'])"
   ]
  },
  {
   "cell_type": "code",
   "execution_count": 8,
   "metadata": {},
   "outputs": [
    {
     "data": {
      "text/html": [
       "<div>\n",
       "<style scoped>\n",
       "    .dataframe tbody tr th:only-of-type {\n",
       "        vertical-align: middle;\n",
       "    }\n",
       "\n",
       "    .dataframe tbody tr th {\n",
       "        vertical-align: top;\n",
       "    }\n",
       "\n",
       "    .dataframe thead th {\n",
       "        text-align: right;\n",
       "    }\n",
       "</style>\n",
       "<table border=\"1\" class=\"dataframe\">\n",
       "  <thead>\n",
       "    <tr style=\"text-align: right;\">\n",
       "      <th></th>\n",
       "      <th>cash_amount</th>\n",
       "      <th>starter_age</th>\n",
       "    </tr>\n",
       "  </thead>\n",
       "  <tbody>\n",
       "    <tr>\n",
       "      <th>0</th>\n",
       "      <td>-0.359936</td>\n",
       "      <td>-1.247867</td>\n",
       "    </tr>\n",
       "    <tr>\n",
       "      <th>1</th>\n",
       "      <td>1.585284</td>\n",
       "      <td>1.679835</td>\n",
       "    </tr>\n",
       "    <tr>\n",
       "      <th>2</th>\n",
       "      <td>0.514594</td>\n",
       "      <td>0.215984</td>\n",
       "    </tr>\n",
       "    <tr>\n",
       "      <th>3</th>\n",
       "      <td>0.656062</td>\n",
       "      <td>-0.306820</td>\n",
       "    </tr>\n",
       "    <tr>\n",
       "      <th>4</th>\n",
       "      <td>-0.293420</td>\n",
       "      <td>0.320545</td>\n",
       "    </tr>\n",
       "    <tr>\n",
       "      <th>...</th>\n",
       "      <td>...</td>\n",
       "      <td>...</td>\n",
       "    </tr>\n",
       "    <tr>\n",
       "      <th>20016</th>\n",
       "      <td>0.003829</td>\n",
       "      <td>-1.143306</td>\n",
       "    </tr>\n",
       "    <tr>\n",
       "      <th>20017</th>\n",
       "      <td>1.659959</td>\n",
       "      <td>-0.202259</td>\n",
       "    </tr>\n",
       "    <tr>\n",
       "      <th>20018</th>\n",
       "      <td>0.405623</td>\n",
       "      <td>0.111423</td>\n",
       "    </tr>\n",
       "    <tr>\n",
       "      <th>20019</th>\n",
       "      <td>0.796009</td>\n",
       "      <td>0.843349</td>\n",
       "    </tr>\n",
       "    <tr>\n",
       "      <th>20020</th>\n",
       "      <td>0.373402</td>\n",
       "      <td>-0.306820</td>\n",
       "    </tr>\n",
       "  </tbody>\n",
       "</table>\n",
       "<p>20021 rows × 2 columns</p>\n",
       "</div>"
      ],
      "text/plain": [
       "       cash_amount  starter_age\n",
       "0        -0.359936    -1.247867\n",
       "1         1.585284     1.679835\n",
       "2         0.514594     0.215984\n",
       "3         0.656062    -0.306820\n",
       "4        -0.293420     0.320545\n",
       "...            ...          ...\n",
       "20016     0.003829    -1.143306\n",
       "20017     1.659959    -0.202259\n",
       "20018     0.405623     0.111423\n",
       "20019     0.796009     0.843349\n",
       "20020     0.373402    -0.306820\n",
       "\n",
       "[20021 rows x 2 columns]"
      ]
     },
     "execution_count": 8,
     "metadata": {},
     "output_type": "execute_result"
    }
   ],
   "source": [
    "features"
   ]
  },
  {
   "cell_type": "code",
   "execution_count": null,
   "metadata": {},
   "outputs": [],
   "source": []
  },
  {
   "cell_type": "markdown",
   "metadata": {},
   "source": [
    "### OneHot——渠道"
   ]
  },
  {
   "cell_type": "code",
   "execution_count": 9,
   "metadata": {},
   "outputs": [
    {
     "data": {
      "text/plain": [
       "OneHotEncoder(categories='auto', drop=None, dtype=<class 'numpy.float64'>,\n",
       "              handle_unknown='error', sparse=True)"
      ]
     },
     "execution_count": 9,
     "metadata": {},
     "output_type": "execute_result"
    }
   ],
   "source": [
    "ch_one_hot_enc = preprocessing.OneHotEncoder()\n",
    "ch_one_hot_enc.fit(df[['channel']])\n",
    "# enc.n_values_"
   ]
  },
  {
   "cell_type": "code",
   "execution_count": 10,
   "metadata": {},
   "outputs": [
    {
     "data": {
      "text/plain": [
       "OneHotEncoder(categories='auto', drop=None, dtype=<class 'numpy.float64'>,\n",
       "              handle_unknown='error', sparse=True)"
      ]
     },
     "execution_count": 10,
     "metadata": {},
     "output_type": "execute_result"
    }
   ],
   "source": [
    "ch_one_hot_enc"
   ]
  },
  {
   "cell_type": "code",
   "execution_count": 11,
   "metadata": {},
   "outputs": [],
   "source": [
    "res = ch_one_hot_enc.transform(df[['channel']]).toarray()"
   ]
  },
  {
   "cell_type": "code",
   "execution_count": 12,
   "metadata": {},
   "outputs": [],
   "source": [
    "for i in range(res.shape[1]):\n",
    "    features[f'ch_{i}'] = res.T[0]"
   ]
  },
  {
   "cell_type": "code",
   "execution_count": 13,
   "metadata": {},
   "outputs": [
    {
     "data": {
      "text/html": [
       "<div>\n",
       "<style scoped>\n",
       "    .dataframe tbody tr th:only-of-type {\n",
       "        vertical-align: middle;\n",
       "    }\n",
       "\n",
       "    .dataframe tbody tr th {\n",
       "        vertical-align: top;\n",
       "    }\n",
       "\n",
       "    .dataframe thead th {\n",
       "        text-align: right;\n",
       "    }\n",
       "</style>\n",
       "<table border=\"1\" class=\"dataframe\">\n",
       "  <thead>\n",
       "    <tr style=\"text-align: right;\">\n",
       "      <th></th>\n",
       "      <th>cash_amount</th>\n",
       "      <th>starter_age</th>\n",
       "      <th>ch_0</th>\n",
       "      <th>ch_1</th>\n",
       "      <th>ch_2</th>\n",
       "      <th>ch_3</th>\n",
       "    </tr>\n",
       "  </thead>\n",
       "  <tbody>\n",
       "    <tr>\n",
       "      <th>0</th>\n",
       "      <td>-0.359936</td>\n",
       "      <td>-1.247867</td>\n",
       "      <td>1.0</td>\n",
       "      <td>1.0</td>\n",
       "      <td>1.0</td>\n",
       "      <td>1.0</td>\n",
       "    </tr>\n",
       "    <tr>\n",
       "      <th>1</th>\n",
       "      <td>1.585284</td>\n",
       "      <td>1.679835</td>\n",
       "      <td>0.0</td>\n",
       "      <td>0.0</td>\n",
       "      <td>0.0</td>\n",
       "      <td>0.0</td>\n",
       "    </tr>\n",
       "    <tr>\n",
       "      <th>2</th>\n",
       "      <td>0.514594</td>\n",
       "      <td>0.215984</td>\n",
       "      <td>0.0</td>\n",
       "      <td>0.0</td>\n",
       "      <td>0.0</td>\n",
       "      <td>0.0</td>\n",
       "    </tr>\n",
       "    <tr>\n",
       "      <th>3</th>\n",
       "      <td>0.656062</td>\n",
       "      <td>-0.306820</td>\n",
       "      <td>0.0</td>\n",
       "      <td>0.0</td>\n",
       "      <td>0.0</td>\n",
       "      <td>0.0</td>\n",
       "    </tr>\n",
       "    <tr>\n",
       "      <th>4</th>\n",
       "      <td>-0.293420</td>\n",
       "      <td>0.320545</td>\n",
       "      <td>1.0</td>\n",
       "      <td>1.0</td>\n",
       "      <td>1.0</td>\n",
       "      <td>1.0</td>\n",
       "    </tr>\n",
       "    <tr>\n",
       "      <th>...</th>\n",
       "      <td>...</td>\n",
       "      <td>...</td>\n",
       "      <td>...</td>\n",
       "      <td>...</td>\n",
       "      <td>...</td>\n",
       "      <td>...</td>\n",
       "    </tr>\n",
       "    <tr>\n",
       "      <th>20016</th>\n",
       "      <td>0.003829</td>\n",
       "      <td>-1.143306</td>\n",
       "      <td>0.0</td>\n",
       "      <td>0.0</td>\n",
       "      <td>0.0</td>\n",
       "      <td>0.0</td>\n",
       "    </tr>\n",
       "    <tr>\n",
       "      <th>20017</th>\n",
       "      <td>1.659959</td>\n",
       "      <td>-0.202259</td>\n",
       "      <td>1.0</td>\n",
       "      <td>1.0</td>\n",
       "      <td>1.0</td>\n",
       "      <td>1.0</td>\n",
       "    </tr>\n",
       "    <tr>\n",
       "      <th>20018</th>\n",
       "      <td>0.405623</td>\n",
       "      <td>0.111423</td>\n",
       "      <td>1.0</td>\n",
       "      <td>1.0</td>\n",
       "      <td>1.0</td>\n",
       "      <td>1.0</td>\n",
       "    </tr>\n",
       "    <tr>\n",
       "      <th>20019</th>\n",
       "      <td>0.796009</td>\n",
       "      <td>0.843349</td>\n",
       "      <td>1.0</td>\n",
       "      <td>1.0</td>\n",
       "      <td>1.0</td>\n",
       "      <td>1.0</td>\n",
       "    </tr>\n",
       "    <tr>\n",
       "      <th>20020</th>\n",
       "      <td>0.373402</td>\n",
       "      <td>-0.306820</td>\n",
       "      <td>0.0</td>\n",
       "      <td>0.0</td>\n",
       "      <td>0.0</td>\n",
       "      <td>0.0</td>\n",
       "    </tr>\n",
       "  </tbody>\n",
       "</table>\n",
       "<p>20021 rows × 6 columns</p>\n",
       "</div>"
      ],
      "text/plain": [
       "       cash_amount  starter_age  ch_0  ch_1  ch_2  ch_3\n",
       "0        -0.359936    -1.247867   1.0   1.0   1.0   1.0\n",
       "1         1.585284     1.679835   0.0   0.0   0.0   0.0\n",
       "2         0.514594     0.215984   0.0   0.0   0.0   0.0\n",
       "3         0.656062    -0.306820   0.0   0.0   0.0   0.0\n",
       "4        -0.293420     0.320545   1.0   1.0   1.0   1.0\n",
       "...            ...          ...   ...   ...   ...   ...\n",
       "20016     0.003829    -1.143306   0.0   0.0   0.0   0.0\n",
       "20017     1.659959    -0.202259   1.0   1.0   1.0   1.0\n",
       "20018     0.405623     0.111423   1.0   1.0   1.0   1.0\n",
       "20019     0.796009     0.843349   1.0   1.0   1.0   1.0\n",
       "20020     0.373402    -0.306820   0.0   0.0   0.0   0.0\n",
       "\n",
       "[20021 rows x 6 columns]"
      ]
     },
     "execution_count": 13,
     "metadata": {},
     "output_type": "execute_result"
    }
   ],
   "source": [
    "features"
   ]
  },
  {
   "cell_type": "code",
   "execution_count": null,
   "metadata": {},
   "outputs": [],
   "source": []
  },
  {
   "cell_type": "markdown",
   "metadata": {},
   "source": [
    "### OneHot：starter_area"
   ]
  },
  {
   "cell_type": "code",
   "execution_count": 183,
   "metadata": {},
   "outputs": [
    {
     "data": {
      "text/plain": [
       "OneHotEncoder(categories='auto', drop=None, dtype=<class 'numpy.float64'>,\n",
       "              handle_unknown='error', sparse=True)"
      ]
     },
     "execution_count": 183,
     "metadata": {},
     "output_type": "execute_result"
    }
   ],
   "source": [
    "area_one_hot_enc = preprocessing.OneHotEncoder()\n",
    "area_one_hot_enc.fit(df[['starter_area']])"
   ]
  },
  {
   "cell_type": "code",
   "execution_count": 184,
   "metadata": {},
   "outputs": [
    {
     "data": {
      "text/plain": [
       "OneHotEncoder(categories='auto', drop=None, dtype=<class 'numpy.float64'>,\n",
       "              handle_unknown='error', sparse=True)"
      ]
     },
     "execution_count": 184,
     "metadata": {},
     "output_type": "execute_result"
    }
   ],
   "source": [
    "area_one_hot_enc"
   ]
  },
  {
   "cell_type": "code",
   "execution_count": 185,
   "metadata": {},
   "outputs": [],
   "source": [
    "res = area_one_hot_enc.transform(df[['starter_area']]).toarray()"
   ]
  },
  {
   "cell_type": "code",
   "execution_count": 186,
   "metadata": {},
   "outputs": [],
   "source": [
    "for i in range(res.shape[1]):\n",
    "    features[f'area_{i}'] = res.T[0]"
   ]
  },
  {
   "cell_type": "code",
   "execution_count": 187,
   "metadata": {},
   "outputs": [
    {
     "data": {
      "text/html": [
       "<div>\n",
       "<style scoped>\n",
       "    .dataframe tbody tr th:only-of-type {\n",
       "        vertical-align: middle;\n",
       "    }\n",
       "\n",
       "    .dataframe tbody tr th {\n",
       "        vertical-align: top;\n",
       "    }\n",
       "\n",
       "    .dataframe thead th {\n",
       "        text-align: right;\n",
       "    }\n",
       "</style>\n",
       "<table border=\"1\" class=\"dataframe\">\n",
       "  <thead>\n",
       "    <tr style=\"text-align: right;\">\n",
       "      <th></th>\n",
       "      <th>cash_amount</th>\n",
       "      <th>starter_age</th>\n",
       "      <th>ch_0</th>\n",
       "      <th>ch_1</th>\n",
       "      <th>ch_2</th>\n",
       "      <th>ch_3</th>\n",
       "      <th>area_0</th>\n",
       "      <th>area_1</th>\n",
       "      <th>area_2</th>\n",
       "      <th>area_3</th>\n",
       "      <th>...</th>\n",
       "      <th>area_11</th>\n",
       "      <th>area_12</th>\n",
       "      <th>area_13</th>\n",
       "      <th>area_14</th>\n",
       "      <th>area_15</th>\n",
       "      <th>area_16</th>\n",
       "      <th>area_17</th>\n",
       "      <th>area_18</th>\n",
       "      <th>area_19</th>\n",
       "      <th>area_20</th>\n",
       "    </tr>\n",
       "  </thead>\n",
       "  <tbody>\n",
       "    <tr>\n",
       "      <th>0</th>\n",
       "      <td>-0.359936</td>\n",
       "      <td>-1.247867</td>\n",
       "      <td>1.0</td>\n",
       "      <td>1.0</td>\n",
       "      <td>1.0</td>\n",
       "      <td>1.0</td>\n",
       "      <td>0.0</td>\n",
       "      <td>0.0</td>\n",
       "      <td>0.0</td>\n",
       "      <td>0.0</td>\n",
       "      <td>...</td>\n",
       "      <td>0.0</td>\n",
       "      <td>0.0</td>\n",
       "      <td>0.0</td>\n",
       "      <td>0.0</td>\n",
       "      <td>0.0</td>\n",
       "      <td>0.0</td>\n",
       "      <td>0.0</td>\n",
       "      <td>0.0</td>\n",
       "      <td>0.0</td>\n",
       "      <td>0.0</td>\n",
       "    </tr>\n",
       "    <tr>\n",
       "      <th>1</th>\n",
       "      <td>1.585284</td>\n",
       "      <td>1.679835</td>\n",
       "      <td>0.0</td>\n",
       "      <td>0.0</td>\n",
       "      <td>0.0</td>\n",
       "      <td>0.0</td>\n",
       "      <td>0.0</td>\n",
       "      <td>0.0</td>\n",
       "      <td>0.0</td>\n",
       "      <td>0.0</td>\n",
       "      <td>...</td>\n",
       "      <td>0.0</td>\n",
       "      <td>0.0</td>\n",
       "      <td>0.0</td>\n",
       "      <td>0.0</td>\n",
       "      <td>0.0</td>\n",
       "      <td>0.0</td>\n",
       "      <td>0.0</td>\n",
       "      <td>0.0</td>\n",
       "      <td>0.0</td>\n",
       "      <td>0.0</td>\n",
       "    </tr>\n",
       "    <tr>\n",
       "      <th>2</th>\n",
       "      <td>0.514594</td>\n",
       "      <td>0.215984</td>\n",
       "      <td>0.0</td>\n",
       "      <td>0.0</td>\n",
       "      <td>0.0</td>\n",
       "      <td>0.0</td>\n",
       "      <td>0.0</td>\n",
       "      <td>0.0</td>\n",
       "      <td>0.0</td>\n",
       "      <td>0.0</td>\n",
       "      <td>...</td>\n",
       "      <td>0.0</td>\n",
       "      <td>0.0</td>\n",
       "      <td>0.0</td>\n",
       "      <td>0.0</td>\n",
       "      <td>0.0</td>\n",
       "      <td>0.0</td>\n",
       "      <td>0.0</td>\n",
       "      <td>0.0</td>\n",
       "      <td>0.0</td>\n",
       "      <td>0.0</td>\n",
       "    </tr>\n",
       "    <tr>\n",
       "      <th>3</th>\n",
       "      <td>0.656062</td>\n",
       "      <td>-0.306820</td>\n",
       "      <td>0.0</td>\n",
       "      <td>0.0</td>\n",
       "      <td>0.0</td>\n",
       "      <td>0.0</td>\n",
       "      <td>0.0</td>\n",
       "      <td>0.0</td>\n",
       "      <td>0.0</td>\n",
       "      <td>0.0</td>\n",
       "      <td>...</td>\n",
       "      <td>0.0</td>\n",
       "      <td>0.0</td>\n",
       "      <td>0.0</td>\n",
       "      <td>0.0</td>\n",
       "      <td>0.0</td>\n",
       "      <td>0.0</td>\n",
       "      <td>0.0</td>\n",
       "      <td>0.0</td>\n",
       "      <td>0.0</td>\n",
       "      <td>0.0</td>\n",
       "    </tr>\n",
       "    <tr>\n",
       "      <th>4</th>\n",
       "      <td>-0.293420</td>\n",
       "      <td>0.320545</td>\n",
       "      <td>1.0</td>\n",
       "      <td>1.0</td>\n",
       "      <td>1.0</td>\n",
       "      <td>1.0</td>\n",
       "      <td>0.0</td>\n",
       "      <td>0.0</td>\n",
       "      <td>0.0</td>\n",
       "      <td>0.0</td>\n",
       "      <td>...</td>\n",
       "      <td>0.0</td>\n",
       "      <td>0.0</td>\n",
       "      <td>0.0</td>\n",
       "      <td>0.0</td>\n",
       "      <td>0.0</td>\n",
       "      <td>0.0</td>\n",
       "      <td>0.0</td>\n",
       "      <td>0.0</td>\n",
       "      <td>0.0</td>\n",
       "      <td>0.0</td>\n",
       "    </tr>\n",
       "    <tr>\n",
       "      <th>...</th>\n",
       "      <td>...</td>\n",
       "      <td>...</td>\n",
       "      <td>...</td>\n",
       "      <td>...</td>\n",
       "      <td>...</td>\n",
       "      <td>...</td>\n",
       "      <td>...</td>\n",
       "      <td>...</td>\n",
       "      <td>...</td>\n",
       "      <td>...</td>\n",
       "      <td>...</td>\n",
       "      <td>...</td>\n",
       "      <td>...</td>\n",
       "      <td>...</td>\n",
       "      <td>...</td>\n",
       "      <td>...</td>\n",
       "      <td>...</td>\n",
       "      <td>...</td>\n",
       "      <td>...</td>\n",
       "      <td>...</td>\n",
       "      <td>...</td>\n",
       "    </tr>\n",
       "    <tr>\n",
       "      <th>20016</th>\n",
       "      <td>0.003829</td>\n",
       "      <td>-1.143306</td>\n",
       "      <td>0.0</td>\n",
       "      <td>0.0</td>\n",
       "      <td>0.0</td>\n",
       "      <td>0.0</td>\n",
       "      <td>0.0</td>\n",
       "      <td>0.0</td>\n",
       "      <td>0.0</td>\n",
       "      <td>0.0</td>\n",
       "      <td>...</td>\n",
       "      <td>0.0</td>\n",
       "      <td>0.0</td>\n",
       "      <td>0.0</td>\n",
       "      <td>0.0</td>\n",
       "      <td>0.0</td>\n",
       "      <td>0.0</td>\n",
       "      <td>0.0</td>\n",
       "      <td>0.0</td>\n",
       "      <td>0.0</td>\n",
       "      <td>0.0</td>\n",
       "    </tr>\n",
       "    <tr>\n",
       "      <th>20017</th>\n",
       "      <td>1.659959</td>\n",
       "      <td>-0.202259</td>\n",
       "      <td>1.0</td>\n",
       "      <td>1.0</td>\n",
       "      <td>1.0</td>\n",
       "      <td>1.0</td>\n",
       "      <td>0.0</td>\n",
       "      <td>0.0</td>\n",
       "      <td>0.0</td>\n",
       "      <td>0.0</td>\n",
       "      <td>...</td>\n",
       "      <td>0.0</td>\n",
       "      <td>0.0</td>\n",
       "      <td>0.0</td>\n",
       "      <td>0.0</td>\n",
       "      <td>0.0</td>\n",
       "      <td>0.0</td>\n",
       "      <td>0.0</td>\n",
       "      <td>0.0</td>\n",
       "      <td>0.0</td>\n",
       "      <td>0.0</td>\n",
       "    </tr>\n",
       "    <tr>\n",
       "      <th>20018</th>\n",
       "      <td>0.405623</td>\n",
       "      <td>0.111423</td>\n",
       "      <td>1.0</td>\n",
       "      <td>1.0</td>\n",
       "      <td>1.0</td>\n",
       "      <td>1.0</td>\n",
       "      <td>1.0</td>\n",
       "      <td>1.0</td>\n",
       "      <td>1.0</td>\n",
       "      <td>1.0</td>\n",
       "      <td>...</td>\n",
       "      <td>1.0</td>\n",
       "      <td>1.0</td>\n",
       "      <td>1.0</td>\n",
       "      <td>1.0</td>\n",
       "      <td>1.0</td>\n",
       "      <td>1.0</td>\n",
       "      <td>1.0</td>\n",
       "      <td>1.0</td>\n",
       "      <td>1.0</td>\n",
       "      <td>1.0</td>\n",
       "    </tr>\n",
       "    <tr>\n",
       "      <th>20019</th>\n",
       "      <td>0.796009</td>\n",
       "      <td>0.843349</td>\n",
       "      <td>1.0</td>\n",
       "      <td>1.0</td>\n",
       "      <td>1.0</td>\n",
       "      <td>1.0</td>\n",
       "      <td>1.0</td>\n",
       "      <td>1.0</td>\n",
       "      <td>1.0</td>\n",
       "      <td>1.0</td>\n",
       "      <td>...</td>\n",
       "      <td>1.0</td>\n",
       "      <td>1.0</td>\n",
       "      <td>1.0</td>\n",
       "      <td>1.0</td>\n",
       "      <td>1.0</td>\n",
       "      <td>1.0</td>\n",
       "      <td>1.0</td>\n",
       "      <td>1.0</td>\n",
       "      <td>1.0</td>\n",
       "      <td>1.0</td>\n",
       "    </tr>\n",
       "    <tr>\n",
       "      <th>20020</th>\n",
       "      <td>0.373402</td>\n",
       "      <td>-0.306820</td>\n",
       "      <td>0.0</td>\n",
       "      <td>0.0</td>\n",
       "      <td>0.0</td>\n",
       "      <td>0.0</td>\n",
       "      <td>0.0</td>\n",
       "      <td>0.0</td>\n",
       "      <td>0.0</td>\n",
       "      <td>0.0</td>\n",
       "      <td>...</td>\n",
       "      <td>0.0</td>\n",
       "      <td>0.0</td>\n",
       "      <td>0.0</td>\n",
       "      <td>0.0</td>\n",
       "      <td>0.0</td>\n",
       "      <td>0.0</td>\n",
       "      <td>0.0</td>\n",
       "      <td>0.0</td>\n",
       "      <td>0.0</td>\n",
       "      <td>0.0</td>\n",
       "    </tr>\n",
       "  </tbody>\n",
       "</table>\n",
       "<p>20021 rows × 27 columns</p>\n",
       "</div>"
      ],
      "text/plain": [
       "       cash_amount  starter_age  ch_0  ch_1  ch_2  ch_3  area_0  area_1  \\\n",
       "0        -0.359936    -1.247867   1.0   1.0   1.0   1.0     0.0     0.0   \n",
       "1         1.585284     1.679835   0.0   0.0   0.0   0.0     0.0     0.0   \n",
       "2         0.514594     0.215984   0.0   0.0   0.0   0.0     0.0     0.0   \n",
       "3         0.656062    -0.306820   0.0   0.0   0.0   0.0     0.0     0.0   \n",
       "4        -0.293420     0.320545   1.0   1.0   1.0   1.0     0.0     0.0   \n",
       "...            ...          ...   ...   ...   ...   ...     ...     ...   \n",
       "20016     0.003829    -1.143306   0.0   0.0   0.0   0.0     0.0     0.0   \n",
       "20017     1.659959    -0.202259   1.0   1.0   1.0   1.0     0.0     0.0   \n",
       "20018     0.405623     0.111423   1.0   1.0   1.0   1.0     1.0     1.0   \n",
       "20019     0.796009     0.843349   1.0   1.0   1.0   1.0     1.0     1.0   \n",
       "20020     0.373402    -0.306820   0.0   0.0   0.0   0.0     0.0     0.0   \n",
       "\n",
       "       area_2  area_3  ...  area_11  area_12  area_13  area_14  area_15  \\\n",
       "0         0.0     0.0  ...      0.0      0.0      0.0      0.0      0.0   \n",
       "1         0.0     0.0  ...      0.0      0.0      0.0      0.0      0.0   \n",
       "2         0.0     0.0  ...      0.0      0.0      0.0      0.0      0.0   \n",
       "3         0.0     0.0  ...      0.0      0.0      0.0      0.0      0.0   \n",
       "4         0.0     0.0  ...      0.0      0.0      0.0      0.0      0.0   \n",
       "...       ...     ...  ...      ...      ...      ...      ...      ...   \n",
       "20016     0.0     0.0  ...      0.0      0.0      0.0      0.0      0.0   \n",
       "20017     0.0     0.0  ...      0.0      0.0      0.0      0.0      0.0   \n",
       "20018     1.0     1.0  ...      1.0      1.0      1.0      1.0      1.0   \n",
       "20019     1.0     1.0  ...      1.0      1.0      1.0      1.0      1.0   \n",
       "20020     0.0     0.0  ...      0.0      0.0      0.0      0.0      0.0   \n",
       "\n",
       "       area_16  area_17  area_18  area_19  area_20  \n",
       "0          0.0      0.0      0.0      0.0      0.0  \n",
       "1          0.0      0.0      0.0      0.0      0.0  \n",
       "2          0.0      0.0      0.0      0.0      0.0  \n",
       "3          0.0      0.0      0.0      0.0      0.0  \n",
       "4          0.0      0.0      0.0      0.0      0.0  \n",
       "...        ...      ...      ...      ...      ...  \n",
       "20016      0.0      0.0      0.0      0.0      0.0  \n",
       "20017      0.0      0.0      0.0      0.0      0.0  \n",
       "20018      1.0      1.0      1.0      1.0      1.0  \n",
       "20019      1.0      1.0      1.0      1.0      1.0  \n",
       "20020      0.0      0.0      0.0      0.0      0.0  \n",
       "\n",
       "[20021 rows x 27 columns]"
      ]
     },
     "execution_count": 187,
     "metadata": {},
     "output_type": "execute_result"
    }
   ],
   "source": [
    "features"
   ]
  },
  {
   "cell_type": "code",
   "execution_count": null,
   "metadata": {},
   "outputs": [],
   "source": []
  },
  {
   "cell_type": "markdown",
   "metadata": {},
   "source": [
    "### 降维观察特征的有效性"
   ]
  },
  {
   "cell_type": "code",
   "execution_count": 14,
   "metadata": {},
   "outputs": [],
   "source": [
    "import ipyvolume as ipv"
   ]
  },
  {
   "cell_type": "code",
   "execution_count": 15,
   "metadata": {},
   "outputs": [
    {
     "name": "stdout",
     "output_type": "stream",
     "text": [
      "CPU times: user 12min 31s, sys: 222 ms, total: 12min 31s\n",
      "Wall time: 1min 29s\n"
     ]
    }
   ],
   "source": [
    "%%time\n",
    "from sklearn.manifold import TSNE\n",
    "\n",
    "tsne = TSNE(n_components=3)\n",
    "res = tsne.fit_transform(features)"
   ]
  },
  {
   "cell_type": "code",
   "execution_count": 31,
   "metadata": {},
   "outputs": [],
   "source": [
    "df_res = pd.DataFrame(index=features.index)\n",
    "\n",
    "for i in range(3):\n",
    "    df_res[i] = _res[:, i]"
   ]
  },
  {
   "cell_type": "code",
   "execution_count": 32,
   "metadata": {},
   "outputs": [
    {
     "data": {
      "text/html": [
       "<div>\n",
       "<style scoped>\n",
       "    .dataframe tbody tr th:only-of-type {\n",
       "        vertical-align: middle;\n",
       "    }\n",
       "\n",
       "    .dataframe tbody tr th {\n",
       "        vertical-align: top;\n",
       "    }\n",
       "\n",
       "    .dataframe thead th {\n",
       "        text-align: right;\n",
       "    }\n",
       "</style>\n",
       "<table border=\"1\" class=\"dataframe\">\n",
       "  <thead>\n",
       "    <tr style=\"text-align: right;\">\n",
       "      <th></th>\n",
       "      <th>0</th>\n",
       "      <th>1</th>\n",
       "      <th>2</th>\n",
       "    </tr>\n",
       "  </thead>\n",
       "  <tbody>\n",
       "    <tr>\n",
       "      <th>0</th>\n",
       "      <td>18.165588</td>\n",
       "      <td>-19.010647</td>\n",
       "      <td>1.458440</td>\n",
       "    </tr>\n",
       "    <tr>\n",
       "      <th>1</th>\n",
       "      <td>4.450019</td>\n",
       "      <td>-1.731154</td>\n",
       "      <td>-32.102139</td>\n",
       "    </tr>\n",
       "    <tr>\n",
       "      <th>2</th>\n",
       "      <td>-14.175321</td>\n",
       "      <td>3.815895</td>\n",
       "      <td>-3.988426</td>\n",
       "    </tr>\n",
       "    <tr>\n",
       "      <th>3</th>\n",
       "      <td>-5.928217</td>\n",
       "      <td>-7.826748</td>\n",
       "      <td>-10.185696</td>\n",
       "    </tr>\n",
       "    <tr>\n",
       "      <th>4</th>\n",
       "      <td>13.656402</td>\n",
       "      <td>5.804957</td>\n",
       "      <td>-2.203535</td>\n",
       "    </tr>\n",
       "    <tr>\n",
       "      <th>...</th>\n",
       "      <td>...</td>\n",
       "      <td>...</td>\n",
       "      <td>...</td>\n",
       "    </tr>\n",
       "    <tr>\n",
       "      <th>20016</th>\n",
       "      <td>-4.421280</td>\n",
       "      <td>-13.237238</td>\n",
       "      <td>13.659069</td>\n",
       "    </tr>\n",
       "    <tr>\n",
       "      <th>20017</th>\n",
       "      <td>-0.839358</td>\n",
       "      <td>-8.010888</td>\n",
       "      <td>-3.395279</td>\n",
       "    </tr>\n",
       "    <tr>\n",
       "      <th>20018</th>\n",
       "      <td>12.696962</td>\n",
       "      <td>1.771047</td>\n",
       "      <td>9.034929</td>\n",
       "    </tr>\n",
       "    <tr>\n",
       "      <th>20019</th>\n",
       "      <td>4.095841</td>\n",
       "      <td>16.873896</td>\n",
       "      <td>3.948498</td>\n",
       "    </tr>\n",
       "    <tr>\n",
       "      <th>20020</th>\n",
       "      <td>-6.599446</td>\n",
       "      <td>-6.259656</td>\n",
       "      <td>-5.781780</td>\n",
       "    </tr>\n",
       "  </tbody>\n",
       "</table>\n",
       "<p>20021 rows × 3 columns</p>\n",
       "</div>"
      ],
      "text/plain": [
       "               0          1          2\n",
       "0      18.165588 -19.010647   1.458440\n",
       "1       4.450019  -1.731154 -32.102139\n",
       "2     -14.175321   3.815895  -3.988426\n",
       "3      -5.928217  -7.826748 -10.185696\n",
       "4      13.656402   5.804957  -2.203535\n",
       "...          ...        ...        ...\n",
       "20016  -4.421280 -13.237238  13.659069\n",
       "20017  -0.839358  -8.010888  -3.395279\n",
       "20018  12.696962   1.771047   9.034929\n",
       "20019   4.095841  16.873896   3.948498\n",
       "20020  -6.599446  -6.259656  -5.781780\n",
       "\n",
       "[20021 rows x 3 columns]"
      ]
     },
     "execution_count": 32,
     "metadata": {},
     "output_type": "execute_result"
    }
   ],
   "source": [
    "df_res"
   ]
  },
  {
   "cell_type": "code",
   "execution_count": 33,
   "metadata": {},
   "outputs": [
    {
     "data": {
      "text/html": [
       "<div>\n",
       "<style scoped>\n",
       "    .dataframe tbody tr th:only-of-type {\n",
       "        vertical-align: middle;\n",
       "    }\n",
       "\n",
       "    .dataframe tbody tr th {\n",
       "        vertical-align: top;\n",
       "    }\n",
       "\n",
       "    .dataframe thead th {\n",
       "        text-align: right;\n",
       "    }\n",
       "</style>\n",
       "<table border=\"1\" class=\"dataframe\">\n",
       "  <thead>\n",
       "    <tr style=\"text-align: right;\">\n",
       "      <th></th>\n",
       "      <th>0</th>\n",
       "      <th>1</th>\n",
       "      <th>2</th>\n",
       "    </tr>\n",
       "  </thead>\n",
       "  <tbody>\n",
       "    <tr>\n",
       "      <th>count</th>\n",
       "      <td>20021.000000</td>\n",
       "      <td>20021.000000</td>\n",
       "      <td>20021.000000</td>\n",
       "    </tr>\n",
       "    <tr>\n",
       "      <th>mean</th>\n",
       "      <td>0.329172</td>\n",
       "      <td>-0.163093</td>\n",
       "      <td>0.102560</td>\n",
       "    </tr>\n",
       "    <tr>\n",
       "      <th>std</th>\n",
       "      <td>13.911817</td>\n",
       "      <td>15.107344</td>\n",
       "      <td>12.062253</td>\n",
       "    </tr>\n",
       "    <tr>\n",
       "      <th>min</th>\n",
       "      <td>-28.235468</td>\n",
       "      <td>-34.582352</td>\n",
       "      <td>-32.145741</td>\n",
       "    </tr>\n",
       "    <tr>\n",
       "      <th>25%</th>\n",
       "      <td>-10.466891</td>\n",
       "      <td>-11.949810</td>\n",
       "      <td>-8.984593</td>\n",
       "    </tr>\n",
       "    <tr>\n",
       "      <th>50%</th>\n",
       "      <td>0.032380</td>\n",
       "      <td>-0.298013</td>\n",
       "      <td>1.127379</td>\n",
       "    </tr>\n",
       "    <tr>\n",
       "      <th>75%</th>\n",
       "      <td>11.903912</td>\n",
       "      <td>10.771826</td>\n",
       "      <td>8.706995</td>\n",
       "    </tr>\n",
       "    <tr>\n",
       "      <th>max</th>\n",
       "      <td>29.233423</td>\n",
       "      <td>29.592445</td>\n",
       "      <td>28.516783</td>\n",
       "    </tr>\n",
       "  </tbody>\n",
       "</table>\n",
       "</div>"
      ],
      "text/plain": [
       "                  0             1             2\n",
       "count  20021.000000  20021.000000  20021.000000\n",
       "mean       0.329172     -0.163093      0.102560\n",
       "std       13.911817     15.107344     12.062253\n",
       "min      -28.235468    -34.582352    -32.145741\n",
       "25%      -10.466891    -11.949810     -8.984593\n",
       "50%        0.032380     -0.298013      1.127379\n",
       "75%       11.903912     10.771826      8.706995\n",
       "max       29.233423     29.592445     28.516783"
      ]
     },
     "execution_count": 33,
     "metadata": {},
     "output_type": "execute_result"
    }
   ],
   "source": [
    "df_res.describe()"
   ]
  },
  {
   "cell_type": "code",
   "execution_count": 19,
   "metadata": {},
   "outputs": [
    {
     "data": {
      "application/vnd.jupyter.widget-view+json": {
       "model_id": "bcbda373b8ee4df49a3d7f41b9769edb",
       "version_major": 2,
       "version_minor": 0
      },
      "text/plain": [
       "VBox(children=(Figure(camera=PerspectiveCamera(fov=46.0, position=(0.0, 0.0, 2.0), quaternion=(0.0, 0.0, 0.0, …"
      ]
     },
     "metadata": {},
     "output_type": "display_data"
    }
   ],
   "source": [
    "from matplotlib import cm\n",
    "import ipyvolume as ipv\n",
    "\n",
    "colormap = cm.Spectral\n",
    "# _c = [i*3 for i in pd.Categorical(df_res['id']).codes]\n",
    "# color = colormap(_c)\n",
    "ipv.quickscatter(df_res[0], df_res[1], df_res[2], size=1)    # , marker=\"sphere\", color=color[:,:3]"
   ]
  },
  {
   "cell_type": "markdown",
   "metadata": {},
   "source": [
    "![](ali_ant/TSNE_1.png)"
   ]
  },
  {
   "cell_type": "markdown",
   "metadata": {},
   "source": [
    "> Note: 从降维后的结果可以看到：这种方法提取的特征无法区分数据。"
   ]
  },
  {
   "cell_type": "code",
   "execution_count": null,
   "metadata": {},
   "outputs": [],
   "source": []
  },
  {
   "cell_type": "code",
   "execution_count": null,
   "metadata": {},
   "outputs": [],
   "source": []
  },
  {
   "cell_type": "markdown",
   "metadata": {},
   "source": [
    "## 基于ID之间交易的特征提取\n",
    "\n",
    "在数据从交易信息来看，没有明显的分布差别，所以在这里不予考虑。"
   ]
  },
  {
   "cell_type": "code",
   "execution_count": null,
   "metadata": {},
   "outputs": [],
   "source": []
  },
  {
   "cell_type": "markdown",
   "metadata": {},
   "source": [
    "## 基于ID的特征提取 \n",
    "\n",
    "从四个维度来提取：\n",
    "\n",
    "- 发起交易的金额总量和交易数；\n",
    "- 接收交易的金额总量和交易数；"
   ]
  },
  {
   "cell_type": "markdown",
   "metadata": {},
   "source": [
    "#### 发起交易的金额总量和交易数"
   ]
  },
  {
   "cell_type": "code",
   "execution_count": 350,
   "metadata": {},
   "outputs": [],
   "source": [
    "f = {'cash_amount': ['count', 'sum']}\n",
    "starter_df = df.groupby('starter_id').aggregate(f)\n",
    "starter_df.columns = ['_'.join(col).strip() for col in starter_df.columns.values]"
   ]
  },
  {
   "cell_type": "code",
   "execution_count": 351,
   "metadata": {},
   "outputs": [],
   "source": [
    "starter_df.columns = ['s_cash_amount_count', 's_cash_amount_sum']"
   ]
  },
  {
   "cell_type": "code",
   "execution_count": 352,
   "metadata": {},
   "outputs": [
    {
     "data": {
      "text/html": [
       "<div>\n",
       "<style scoped>\n",
       "    .dataframe tbody tr th:only-of-type {\n",
       "        vertical-align: middle;\n",
       "    }\n",
       "\n",
       "    .dataframe tbody tr th {\n",
       "        vertical-align: top;\n",
       "    }\n",
       "\n",
       "    .dataframe thead th {\n",
       "        text-align: right;\n",
       "    }\n",
       "</style>\n",
       "<table border=\"1\" class=\"dataframe\">\n",
       "  <thead>\n",
       "    <tr style=\"text-align: right;\">\n",
       "      <th></th>\n",
       "      <th>s_cash_amount_count</th>\n",
       "      <th>s_cash_amount_sum</th>\n",
       "    </tr>\n",
       "    <tr>\n",
       "      <th>starter_id</th>\n",
       "      <th></th>\n",
       "      <th></th>\n",
       "    </tr>\n",
       "  </thead>\n",
       "  <tbody>\n",
       "    <tr>\n",
       "      <th>1</th>\n",
       "      <td>1</td>\n",
       "      <td>2764000</td>\n",
       "    </tr>\n",
       "    <tr>\n",
       "      <th>2</th>\n",
       "      <td>5</td>\n",
       "      <td>18098000</td>\n",
       "    </tr>\n",
       "    <tr>\n",
       "      <th>3</th>\n",
       "      <td>3</td>\n",
       "      <td>8589800</td>\n",
       "    </tr>\n",
       "    <tr>\n",
       "      <th>4</th>\n",
       "      <td>6</td>\n",
       "      <td>16682400</td>\n",
       "    </tr>\n",
       "    <tr>\n",
       "      <th>5</th>\n",
       "      <td>2</td>\n",
       "      <td>5435500</td>\n",
       "    </tr>\n",
       "    <tr>\n",
       "      <th>...</th>\n",
       "      <td>...</td>\n",
       "      <td>...</td>\n",
       "    </tr>\n",
       "    <tr>\n",
       "      <th>6996</th>\n",
       "      <td>5</td>\n",
       "      <td>9014400</td>\n",
       "    </tr>\n",
       "    <tr>\n",
       "      <th>6997</th>\n",
       "      <td>3</td>\n",
       "      <td>3548100</td>\n",
       "    </tr>\n",
       "    <tr>\n",
       "      <th>6998</th>\n",
       "      <td>1</td>\n",
       "      <td>2878000</td>\n",
       "    </tr>\n",
       "    <tr>\n",
       "      <th>6999</th>\n",
       "      <td>5</td>\n",
       "      <td>15088000</td>\n",
       "    </tr>\n",
       "    <tr>\n",
       "      <th>7000</th>\n",
       "      <td>3</td>\n",
       "      <td>9085800</td>\n",
       "    </tr>\n",
       "  </tbody>\n",
       "</table>\n",
       "<p>6583 rows × 2 columns</p>\n",
       "</div>"
      ],
      "text/plain": [
       "            s_cash_amount_count  s_cash_amount_sum\n",
       "starter_id                                        \n",
       "1                             1            2764000\n",
       "2                             5           18098000\n",
       "3                             3            8589800\n",
       "4                             6           16682400\n",
       "5                             2            5435500\n",
       "...                         ...                ...\n",
       "6996                          5            9014400\n",
       "6997                          3            3548100\n",
       "6998                          1            2878000\n",
       "6999                          5           15088000\n",
       "7000                          3            9085800\n",
       "\n",
       "[6583 rows x 2 columns]"
      ]
     },
     "execution_count": 352,
     "metadata": {},
     "output_type": "execute_result"
    }
   ],
   "source": [
    "starter_df"
   ]
  },
  {
   "cell_type": "code",
   "execution_count": null,
   "metadata": {},
   "outputs": [],
   "source": []
  },
  {
   "cell_type": "markdown",
   "metadata": {},
   "source": [
    "#### 接收交易的金额总量和交易数"
   ]
  },
  {
   "cell_type": "code",
   "execution_count": 353,
   "metadata": {},
   "outputs": [],
   "source": [
    "f = {'cash_amount': ['count', 'sum']}\n",
    "receiver_df = df.groupby('receiver_id').aggregate(f)\n",
    "receiver_df.columns = ['_'.join(col).strip() for col in receiver_df.columns.values]"
   ]
  },
  {
   "cell_type": "code",
   "execution_count": 354,
   "metadata": {},
   "outputs": [
    {
     "data": {
      "text/html": [
       "<div>\n",
       "<style scoped>\n",
       "    .dataframe tbody tr th:only-of-type {\n",
       "        vertical-align: middle;\n",
       "    }\n",
       "\n",
       "    .dataframe tbody tr th {\n",
       "        vertical-align: top;\n",
       "    }\n",
       "\n",
       "    .dataframe thead th {\n",
       "        text-align: right;\n",
       "    }\n",
       "</style>\n",
       "<table border=\"1\" class=\"dataframe\">\n",
       "  <thead>\n",
       "    <tr style=\"text-align: right;\">\n",
       "      <th></th>\n",
       "      <th>e_cash_amount_count</th>\n",
       "      <th>e_cash_amount_sum</th>\n",
       "    </tr>\n",
       "    <tr>\n",
       "      <th>receiver_id</th>\n",
       "      <th></th>\n",
       "      <th></th>\n",
       "    </tr>\n",
       "  </thead>\n",
       "  <tbody>\n",
       "    <tr>\n",
       "      <th>1</th>\n",
       "      <td>202</td>\n",
       "      <td>497892400</td>\n",
       "    </tr>\n",
       "    <tr>\n",
       "      <th>2</th>\n",
       "      <td>179</td>\n",
       "      <td>457216300</td>\n",
       "    </tr>\n",
       "    <tr>\n",
       "      <th>3</th>\n",
       "      <td>201</td>\n",
       "      <td>505419500</td>\n",
       "    </tr>\n",
       "    <tr>\n",
       "      <th>4</th>\n",
       "      <td>214</td>\n",
       "      <td>539274100</td>\n",
       "    </tr>\n",
       "    <tr>\n",
       "      <th>5</th>\n",
       "      <td>222</td>\n",
       "      <td>562892800</td>\n",
       "    </tr>\n",
       "    <tr>\n",
       "      <th>...</th>\n",
       "      <td>...</td>\n",
       "      <td>...</td>\n",
       "    </tr>\n",
       "    <tr>\n",
       "      <th>1434</th>\n",
       "      <td>1</td>\n",
       "      <td>8888800</td>\n",
       "    </tr>\n",
       "    <tr>\n",
       "      <th>3012</th>\n",
       "      <td>1</td>\n",
       "      <td>405300</td>\n",
       "    </tr>\n",
       "    <tr>\n",
       "      <th>4962</th>\n",
       "      <td>1</td>\n",
       "      <td>3279200</td>\n",
       "    </tr>\n",
       "    <tr>\n",
       "      <th>5916</th>\n",
       "      <td>1</td>\n",
       "      <td>4554200</td>\n",
       "    </tr>\n",
       "    <tr>\n",
       "      <th>6258</th>\n",
       "      <td>1</td>\n",
       "      <td>2977500</td>\n",
       "    </tr>\n",
       "  </tbody>\n",
       "</table>\n",
       "<p>117 rows × 2 columns</p>\n",
       "</div>"
      ],
      "text/plain": [
       "             e_cash_amount_count  e_cash_amount_sum\n",
       "receiver_id                                        \n",
       "1                            202          497892400\n",
       "2                            179          457216300\n",
       "3                            201          505419500\n",
       "4                            214          539274100\n",
       "5                            222          562892800\n",
       "...                          ...                ...\n",
       "1434                           1            8888800\n",
       "3012                           1             405300\n",
       "4962                           1            3279200\n",
       "5916                           1            4554200\n",
       "6258                           1            2977500\n",
       "\n",
       "[117 rows x 2 columns]"
      ]
     },
     "execution_count": 354,
     "metadata": {},
     "output_type": "execute_result"
    }
   ],
   "source": [
    "receiver_df.columns = ['e_cash_amount_count', 'e_cash_amount_sum']\n",
    "receiver_df"
   ]
  },
  {
   "cell_type": "code",
   "execution_count": 355,
   "metadata": {},
   "outputs": [],
   "source": [
    "features = receiver_df.join(starter_df, how='outer')"
   ]
  },
  {
   "cell_type": "code",
   "execution_count": 356,
   "metadata": {},
   "outputs": [
    {
     "data": {
      "text/html": [
       "<div>\n",
       "<style scoped>\n",
       "    .dataframe tbody tr th:only-of-type {\n",
       "        vertical-align: middle;\n",
       "    }\n",
       "\n",
       "    .dataframe tbody tr th {\n",
       "        vertical-align: top;\n",
       "    }\n",
       "\n",
       "    .dataframe thead th {\n",
       "        text-align: right;\n",
       "    }\n",
       "</style>\n",
       "<table border=\"1\" class=\"dataframe\">\n",
       "  <thead>\n",
       "    <tr style=\"text-align: right;\">\n",
       "      <th></th>\n",
       "      <th>e_cash_amount_count</th>\n",
       "      <th>e_cash_amount_sum</th>\n",
       "      <th>s_cash_amount_count</th>\n",
       "      <th>s_cash_amount_sum</th>\n",
       "    </tr>\n",
       "  </thead>\n",
       "  <tbody>\n",
       "    <tr>\n",
       "      <th>1</th>\n",
       "      <td>202.0</td>\n",
       "      <td>497892400.0</td>\n",
       "      <td>1.0</td>\n",
       "      <td>2764000.0</td>\n",
       "    </tr>\n",
       "    <tr>\n",
       "      <th>2</th>\n",
       "      <td>179.0</td>\n",
       "      <td>457216300.0</td>\n",
       "      <td>5.0</td>\n",
       "      <td>18098000.0</td>\n",
       "    </tr>\n",
       "    <tr>\n",
       "      <th>3</th>\n",
       "      <td>201.0</td>\n",
       "      <td>505419500.0</td>\n",
       "      <td>3.0</td>\n",
       "      <td>8589800.0</td>\n",
       "    </tr>\n",
       "    <tr>\n",
       "      <th>4</th>\n",
       "      <td>214.0</td>\n",
       "      <td>539274100.0</td>\n",
       "      <td>6.0</td>\n",
       "      <td>16682400.0</td>\n",
       "    </tr>\n",
       "    <tr>\n",
       "      <th>5</th>\n",
       "      <td>222.0</td>\n",
       "      <td>562892800.0</td>\n",
       "      <td>2.0</td>\n",
       "      <td>5435500.0</td>\n",
       "    </tr>\n",
       "    <tr>\n",
       "      <th>...</th>\n",
       "      <td>...</td>\n",
       "      <td>...</td>\n",
       "      <td>...</td>\n",
       "      <td>...</td>\n",
       "    </tr>\n",
       "    <tr>\n",
       "      <th>6996</th>\n",
       "      <td>0.0</td>\n",
       "      <td>0.0</td>\n",
       "      <td>5.0</td>\n",
       "      <td>9014400.0</td>\n",
       "    </tr>\n",
       "    <tr>\n",
       "      <th>6997</th>\n",
       "      <td>0.0</td>\n",
       "      <td>0.0</td>\n",
       "      <td>3.0</td>\n",
       "      <td>3548100.0</td>\n",
       "    </tr>\n",
       "    <tr>\n",
       "      <th>6998</th>\n",
       "      <td>0.0</td>\n",
       "      <td>0.0</td>\n",
       "      <td>1.0</td>\n",
       "      <td>2878000.0</td>\n",
       "    </tr>\n",
       "    <tr>\n",
       "      <th>6999</th>\n",
       "      <td>0.0</td>\n",
       "      <td>0.0</td>\n",
       "      <td>5.0</td>\n",
       "      <td>15088000.0</td>\n",
       "    </tr>\n",
       "    <tr>\n",
       "      <th>7000</th>\n",
       "      <td>0.0</td>\n",
       "      <td>0.0</td>\n",
       "      <td>3.0</td>\n",
       "      <td>9085800.0</td>\n",
       "    </tr>\n",
       "  </tbody>\n",
       "</table>\n",
       "<p>6596 rows × 4 columns</p>\n",
       "</div>"
      ],
      "text/plain": [
       "      e_cash_amount_count  e_cash_amount_sum  s_cash_amount_count  \\\n",
       "1                   202.0        497892400.0                  1.0   \n",
       "2                   179.0        457216300.0                  5.0   \n",
       "3                   201.0        505419500.0                  3.0   \n",
       "4                   214.0        539274100.0                  6.0   \n",
       "5                   222.0        562892800.0                  2.0   \n",
       "...                   ...                ...                  ...   \n",
       "6996                  0.0                0.0                  5.0   \n",
       "6997                  0.0                0.0                  3.0   \n",
       "6998                  0.0                0.0                  1.0   \n",
       "6999                  0.0                0.0                  5.0   \n",
       "7000                  0.0                0.0                  3.0   \n",
       "\n",
       "      s_cash_amount_sum  \n",
       "1             2764000.0  \n",
       "2            18098000.0  \n",
       "3             8589800.0  \n",
       "4            16682400.0  \n",
       "5             5435500.0  \n",
       "...                 ...  \n",
       "6996          9014400.0  \n",
       "6997          3548100.0  \n",
       "6998          2878000.0  \n",
       "6999         15088000.0  \n",
       "7000          9085800.0  \n",
       "\n",
       "[6596 rows x 4 columns]"
      ]
     },
     "execution_count": 356,
     "metadata": {},
     "output_type": "execute_result"
    }
   ],
   "source": [
    "# 填充NaN\n",
    "features = features.fillna(0)\n",
    "features"
   ]
  },
  {
   "cell_type": "code",
   "execution_count": null,
   "metadata": {},
   "outputs": [],
   "source": []
  },
  {
   "cell_type": "markdown",
   "metadata": {},
   "source": [
    "#### 归一化"
   ]
  },
  {
   "cell_type": "code",
   "execution_count": 357,
   "metadata": {},
   "outputs": [],
   "source": [
    "z_score_scaler = preprocessing.StandardScaler()\n",
    "z_score_feature = z_score_scaler.fit_transform(features)"
   ]
  },
  {
   "cell_type": "code",
   "execution_count": 358,
   "metadata": {},
   "outputs": [],
   "source": [
    "_features = pd.DataFrame(z_score_feature, index=features.index)"
   ]
  },
  {
   "cell_type": "code",
   "execution_count": 359,
   "metadata": {},
   "outputs": [
    {
     "data": {
      "text/html": [
       "<div>\n",
       "<style scoped>\n",
       "    .dataframe tbody tr th:only-of-type {\n",
       "        vertical-align: middle;\n",
       "    }\n",
       "\n",
       "    .dataframe tbody tr th {\n",
       "        vertical-align: top;\n",
       "    }\n",
       "\n",
       "    .dataframe thead th {\n",
       "        text-align: right;\n",
       "    }\n",
       "</style>\n",
       "<table border=\"1\" class=\"dataframe\">\n",
       "  <thead>\n",
       "    <tr style=\"text-align: right;\">\n",
       "      <th></th>\n",
       "      <th>0</th>\n",
       "      <th>1</th>\n",
       "      <th>2</th>\n",
       "      <th>3</th>\n",
       "    </tr>\n",
       "  </thead>\n",
       "  <tbody>\n",
       "    <tr>\n",
       "      <th>1</th>\n",
       "      <td>8.122062</td>\n",
       "      <td>7.981598</td>\n",
       "      <td>-1.276431</td>\n",
       "      <td>-0.988593</td>\n",
       "    </tr>\n",
       "    <tr>\n",
       "      <th>2</th>\n",
       "      <td>7.183164</td>\n",
       "      <td>7.319397</td>\n",
       "      <td>1.232125</td>\n",
       "      <td>2.134452</td>\n",
       "    </tr>\n",
       "    <tr>\n",
       "      <th>3</th>\n",
       "      <td>8.081240</td>\n",
       "      <td>8.104138</td>\n",
       "      <td>-0.022153</td>\n",
       "      <td>0.197936</td>\n",
       "    </tr>\n",
       "    <tr>\n",
       "      <th>4</th>\n",
       "      <td>8.611921</td>\n",
       "      <td>8.655286</td>\n",
       "      <td>1.859264</td>\n",
       "      <td>1.846140</td>\n",
       "    </tr>\n",
       "    <tr>\n",
       "      <th>5</th>\n",
       "      <td>8.938494</td>\n",
       "      <td>9.039796</td>\n",
       "      <td>-0.649292</td>\n",
       "      <td>-0.444493</td>\n",
       "    </tr>\n",
       "    <tr>\n",
       "      <th>...</th>\n",
       "      <td>...</td>\n",
       "      <td>...</td>\n",
       "      <td>...</td>\n",
       "      <td>...</td>\n",
       "    </tr>\n",
       "    <tr>\n",
       "      <th>6996</th>\n",
       "      <td>-0.123907</td>\n",
       "      <td>-0.124019</td>\n",
       "      <td>1.232125</td>\n",
       "      <td>0.284414</td>\n",
       "    </tr>\n",
       "    <tr>\n",
       "      <th>6997</th>\n",
       "      <td>-0.123907</td>\n",
       "      <td>-0.124019</td>\n",
       "      <td>-0.022153</td>\n",
       "      <td>-0.828896</td>\n",
       "    </tr>\n",
       "    <tr>\n",
       "      <th>6998</th>\n",
       "      <td>-0.123907</td>\n",
       "      <td>-0.124019</td>\n",
       "      <td>-1.276431</td>\n",
       "      <td>-0.965374</td>\n",
       "    </tr>\n",
       "    <tr>\n",
       "      <th>6999</th>\n",
       "      <td>-0.123907</td>\n",
       "      <td>-0.124019</td>\n",
       "      <td>1.232125</td>\n",
       "      <td>1.521412</td>\n",
       "    </tr>\n",
       "    <tr>\n",
       "      <th>7000</th>\n",
       "      <td>-0.123907</td>\n",
       "      <td>-0.124019</td>\n",
       "      <td>-0.022153</td>\n",
       "      <td>0.298956</td>\n",
       "    </tr>\n",
       "  </tbody>\n",
       "</table>\n",
       "<p>6596 rows × 4 columns</p>\n",
       "</div>"
      ],
      "text/plain": [
       "             0         1         2         3\n",
       "1     8.122062  7.981598 -1.276431 -0.988593\n",
       "2     7.183164  7.319397  1.232125  2.134452\n",
       "3     8.081240  8.104138 -0.022153  0.197936\n",
       "4     8.611921  8.655286  1.859264  1.846140\n",
       "5     8.938494  9.039796 -0.649292 -0.444493\n",
       "...        ...       ...       ...       ...\n",
       "6996 -0.123907 -0.124019  1.232125  0.284414\n",
       "6997 -0.123907 -0.124019 -0.022153 -0.828896\n",
       "6998 -0.123907 -0.124019 -1.276431 -0.965374\n",
       "6999 -0.123907 -0.124019  1.232125  1.521412\n",
       "7000 -0.123907 -0.124019 -0.022153  0.298956\n",
       "\n",
       "[6596 rows x 4 columns]"
      ]
     },
     "execution_count": 359,
     "metadata": {},
     "output_type": "execute_result"
    }
   ],
   "source": [
    "_features"
   ]
  },
  {
   "cell_type": "code",
   "execution_count": null,
   "metadata": {},
   "outputs": [],
   "source": []
  },
  {
   "cell_type": "markdown",
   "metadata": {},
   "source": [
    "### 降维观察特征有效性"
   ]
  },
  {
   "cell_type": "code",
   "execution_count": 101,
   "metadata": {},
   "outputs": [
    {
     "name": "stdout",
     "output_type": "stream",
     "text": [
      "CPU times: user 3min 30s, sys: 128 ms, total: 3min 30s\n",
      "Wall time: 25.5 s\n"
     ]
    }
   ],
   "source": [
    "%%time\n",
    "from sklearn.manifold import TSNE\n",
    "\n",
    "tsne = TSNE(n_components=3)\n",
    "_res = tsne.fit_transform(_features)"
   ]
  },
  {
   "cell_type": "code",
   "execution_count": 111,
   "metadata": {},
   "outputs": [],
   "source": [
    "df_res = pd.DataFrame(index=_features.index)\n",
    "\n",
    "for i in range(3):\n",
    "    df_res[i] = _res[:, i]"
   ]
  },
  {
   "cell_type": "code",
   "execution_count": 112,
   "metadata": {},
   "outputs": [],
   "source": [
    "df_res.reset_index(inplace=True)"
   ]
  },
  {
   "cell_type": "code",
   "execution_count": 113,
   "metadata": {},
   "outputs": [
    {
     "data": {
      "text/html": [
       "<div>\n",
       "<style scoped>\n",
       "    .dataframe tbody tr th:only-of-type {\n",
       "        vertical-align: middle;\n",
       "    }\n",
       "\n",
       "    .dataframe tbody tr th {\n",
       "        vertical-align: top;\n",
       "    }\n",
       "\n",
       "    .dataframe thead th {\n",
       "        text-align: right;\n",
       "    }\n",
       "</style>\n",
       "<table border=\"1\" class=\"dataframe\">\n",
       "  <thead>\n",
       "    <tr style=\"text-align: right;\">\n",
       "      <th></th>\n",
       "      <th>index</th>\n",
       "      <th>0</th>\n",
       "      <th>1</th>\n",
       "      <th>2</th>\n",
       "    </tr>\n",
       "  </thead>\n",
       "  <tbody>\n",
       "    <tr>\n",
       "      <th>0</th>\n",
       "      <td>0</td>\n",
       "      <td>-2.616519</td>\n",
       "      <td>10.399817</td>\n",
       "      <td>16.650976</td>\n",
       "    </tr>\n",
       "    <tr>\n",
       "      <th>1</th>\n",
       "      <td>1</td>\n",
       "      <td>0.269044</td>\n",
       "      <td>8.815780</td>\n",
       "      <td>21.424440</td>\n",
       "    </tr>\n",
       "    <tr>\n",
       "      <th>2</th>\n",
       "      <td>2</td>\n",
       "      <td>-1.138858</td>\n",
       "      <td>9.294405</td>\n",
       "      <td>19.571409</td>\n",
       "    </tr>\n",
       "    <tr>\n",
       "      <th>3</th>\n",
       "      <td>3</td>\n",
       "      <td>-0.300031</td>\n",
       "      <td>9.371153</td>\n",
       "      <td>21.505943</td>\n",
       "    </tr>\n",
       "    <tr>\n",
       "      <th>4</th>\n",
       "      <td>4</td>\n",
       "      <td>-3.027676</td>\n",
       "      <td>11.100630</td>\n",
       "      <td>18.954000</td>\n",
       "    </tr>\n",
       "    <tr>\n",
       "      <th>...</th>\n",
       "      <td>...</td>\n",
       "      <td>...</td>\n",
       "      <td>...</td>\n",
       "      <td>...</td>\n",
       "    </tr>\n",
       "    <tr>\n",
       "      <th>6591</th>\n",
       "      <td>6591</td>\n",
       "      <td>9.084714</td>\n",
       "      <td>10.959700</td>\n",
       "      <td>-5.038331</td>\n",
       "    </tr>\n",
       "    <tr>\n",
       "      <th>6592</th>\n",
       "      <td>6592</td>\n",
       "      <td>-4.531178</td>\n",
       "      <td>27.202545</td>\n",
       "      <td>-1.383322</td>\n",
       "    </tr>\n",
       "    <tr>\n",
       "      <th>6593</th>\n",
       "      <td>6593</td>\n",
       "      <td>-14.335349</td>\n",
       "      <td>-15.130382</td>\n",
       "      <td>-5.814716</td>\n",
       "    </tr>\n",
       "    <tr>\n",
       "      <th>6594</th>\n",
       "      <td>6594</td>\n",
       "      <td>1.527327</td>\n",
       "      <td>-24.622822</td>\n",
       "      <td>-3.664261</td>\n",
       "    </tr>\n",
       "    <tr>\n",
       "      <th>6595</th>\n",
       "      <td>6595</td>\n",
       "      <td>-22.862921</td>\n",
       "      <td>-3.276567</td>\n",
       "      <td>5.567962</td>\n",
       "    </tr>\n",
       "  </tbody>\n",
       "</table>\n",
       "<p>6596 rows × 4 columns</p>\n",
       "</div>"
      ],
      "text/plain": [
       "      index          0          1          2\n",
       "0         0  -2.616519  10.399817  16.650976\n",
       "1         1   0.269044   8.815780  21.424440\n",
       "2         2  -1.138858   9.294405  19.571409\n",
       "3         3  -0.300031   9.371153  21.505943\n",
       "4         4  -3.027676  11.100630  18.954000\n",
       "...     ...        ...        ...        ...\n",
       "6591   6591   9.084714  10.959700  -5.038331\n",
       "6592   6592  -4.531178  27.202545  -1.383322\n",
       "6593   6593 -14.335349 -15.130382  -5.814716\n",
       "6594   6594   1.527327 -24.622822  -3.664261\n",
       "6595   6595 -22.862921  -3.276567   5.567962\n",
       "\n",
       "[6596 rows x 4 columns]"
      ]
     },
     "execution_count": 113,
     "metadata": {},
     "output_type": "execute_result"
    }
   ],
   "source": [
    "df_res"
   ]
  },
  {
   "cell_type": "code",
   "execution_count": 114,
   "metadata": {},
   "outputs": [
    {
     "data": {
      "application/vnd.jupyter.widget-view+json": {
       "model_id": "2f8755e44cbc4a43b54436e3fe763eef",
       "version_major": 2,
       "version_minor": 0
      },
      "text/plain": [
       "VBox(children=(Figure(camera=PerspectiveCamera(fov=46.0, position=(0.0, 0.0, 2.0), quaternion=(0.0, 0.0, 0.0, …"
      ]
     },
     "metadata": {},
     "output_type": "display_data"
    }
   ],
   "source": [
    "from matplotlib import cm\n",
    "import ipyvolume as ipv\n",
    "\n",
    "colormap = cm.Spectral\n",
    "# _c = [i*3 for i in pd.Categorical(df_res['id']).codes]\n",
    "# color = colormap(_c)\n",
    "ipv.quickscatter(df_res[0], df_res[1], df_res[2], size=1)    # , marker=\"sphere\", color=color[:,:3]"
   ]
  },
  {
   "cell_type": "markdown",
   "metadata": {},
   "source": [
    "![](ali_ant/TSNE_2.png)"
   ]
  },
  {
   "cell_type": "markdown",
   "metadata": {},
   "source": [
    "> Note: 从降维后的结果可以看到：这种方法提取的特征很容易异常数据。"
   ]
  },
  {
   "cell_type": "code",
   "execution_count": null,
   "metadata": {},
   "outputs": [],
   "source": []
  },
  {
   "cell_type": "markdown",
   "metadata": {},
   "source": [
    "# 构建模型\n",
    "\n",
    "使用下面3种方式构建模型：\n",
    "\n",
    "- K-means；\n",
    "- 谱聚类模型；\n",
    "- 孤立森林Isolation Forest。"
   ]
  },
  {
   "cell_type": "markdown",
   "metadata": {},
   "source": [
    "## K-means聚类模型"
   ]
  },
  {
   "cell_type": "code",
   "execution_count": 425,
   "metadata": {},
   "outputs": [
    {
     "name": "stdout",
     "output_type": "stream",
     "text": [
      "CPU times: user 143 ms, sys: 299 ms, total: 442 ms\n",
      "Wall time: 39.2 ms\n"
     ]
    }
   ],
   "source": [
    "%%time\n",
    "from sklearn.cluster import KMeans\n",
    "\n",
    "y_pred = KMeans(n_clusters=2, random_state=10).fit_predict(_features)"
   ]
  },
  {
   "cell_type": "code",
   "execution_count": 324,
   "metadata": {},
   "outputs": [
    {
     "data": {
      "application/vnd.jupyter.widget-view+json": {
       "model_id": "0cf25a4f4e954194b929a49c41b34623",
       "version_major": 2,
       "version_minor": 0
      },
      "text/plain": [
       "VBox(children=(Figure(camera=PerspectiveCamera(fov=46.0, position=(0.0, 0.0, 2.0), quaternion=(0.0, 0.0, 0.0, …"
      ]
     },
     "metadata": {},
     "output_type": "display_data"
    }
   ],
   "source": [
    "from matplotlib import cm\n",
    "import ipyvolume as ipv\n",
    "\n",
    "df_res = _features.reset_index()\n",
    "# pd.Categorical(y_pred).codes\n",
    "colormap = cm.Spectral\n",
    "_c = [i*100 for i in pd.Categorical(y_pred).codes]\n",
    "color = colormap(_c)\n",
    "ipv.quickscatter(df_res[0], df_res[1], df_res[3], size=2, marker=\"sphere\", color=color[:,:3]) "
   ]
  },
  {
   "cell_type": "markdown",
   "metadata": {},
   "source": [
    "![](ali_ant/Kmeans_res.png)"
   ]
  },
  {
   "cell_type": "code",
   "execution_count": 426,
   "metadata": {},
   "outputs": [],
   "source": [
    "_df = pd.DataFrame(y_pred, index=_features.index)"
   ]
  },
  {
   "cell_type": "code",
   "execution_count": 428,
   "metadata": {},
   "outputs": [
    {
     "data": {
      "text/html": [
       "<div>\n",
       "<style scoped>\n",
       "    .dataframe tbody tr th:only-of-type {\n",
       "        vertical-align: middle;\n",
       "    }\n",
       "\n",
       "    .dataframe tbody tr th {\n",
       "        vertical-align: top;\n",
       "    }\n",
       "\n",
       "    .dataframe thead th {\n",
       "        text-align: right;\n",
       "    }\n",
       "</style>\n",
       "<table border=\"1\" class=\"dataframe\">\n",
       "  <thead>\n",
       "    <tr style=\"text-align: right;\">\n",
       "      <th></th>\n",
       "      <th>e_cash_amount_count</th>\n",
       "      <th>e_cash_amount_sum</th>\n",
       "      <th>s_cash_amount_count</th>\n",
       "      <th>s_cash_amount_sum</th>\n",
       "    </tr>\n",
       "  </thead>\n",
       "  <tbody>\n",
       "    <tr>\n",
       "      <th>1</th>\n",
       "      <td>202.0</td>\n",
       "      <td>497892400.0</td>\n",
       "      <td>1.0</td>\n",
       "      <td>2764000.0</td>\n",
       "    </tr>\n",
       "    <tr>\n",
       "      <th>2</th>\n",
       "      <td>179.0</td>\n",
       "      <td>457216300.0</td>\n",
       "      <td>5.0</td>\n",
       "      <td>18098000.0</td>\n",
       "    </tr>\n",
       "    <tr>\n",
       "      <th>3</th>\n",
       "      <td>201.0</td>\n",
       "      <td>505419500.0</td>\n",
       "      <td>3.0</td>\n",
       "      <td>8589800.0</td>\n",
       "    </tr>\n",
       "    <tr>\n",
       "      <th>4</th>\n",
       "      <td>214.0</td>\n",
       "      <td>539274100.0</td>\n",
       "      <td>6.0</td>\n",
       "      <td>16682400.0</td>\n",
       "    </tr>\n",
       "    <tr>\n",
       "      <th>5</th>\n",
       "      <td>222.0</td>\n",
       "      <td>562892800.0</td>\n",
       "      <td>2.0</td>\n",
       "      <td>5435500.0</td>\n",
       "    </tr>\n",
       "    <tr>\n",
       "      <th>...</th>\n",
       "      <td>...</td>\n",
       "      <td>...</td>\n",
       "      <td>...</td>\n",
       "      <td>...</td>\n",
       "    </tr>\n",
       "    <tr>\n",
       "      <th>96</th>\n",
       "      <td>208.0</td>\n",
       "      <td>508578500.0</td>\n",
       "      <td>0.0</td>\n",
       "      <td>0.0</td>\n",
       "    </tr>\n",
       "    <tr>\n",
       "      <th>97</th>\n",
       "      <td>191.0</td>\n",
       "      <td>443328700.0</td>\n",
       "      <td>1.0</td>\n",
       "      <td>4635800.0</td>\n",
       "    </tr>\n",
       "    <tr>\n",
       "      <th>98</th>\n",
       "      <td>187.0</td>\n",
       "      <td>468610000.0</td>\n",
       "      <td>2.0</td>\n",
       "      <td>5157900.0</td>\n",
       "    </tr>\n",
       "    <tr>\n",
       "      <th>99</th>\n",
       "      <td>182.0</td>\n",
       "      <td>431347100.0</td>\n",
       "      <td>3.0</td>\n",
       "      <td>10525300.0</td>\n",
       "    </tr>\n",
       "    <tr>\n",
       "      <th>100</th>\n",
       "      <td>217.0</td>\n",
       "      <td>580785900.0</td>\n",
       "      <td>2.0</td>\n",
       "      <td>3329900.0</td>\n",
       "    </tr>\n",
       "  </tbody>\n",
       "</table>\n",
       "<p>100 rows × 4 columns</p>\n",
       "</div>"
      ],
      "text/plain": [
       "     e_cash_amount_count  e_cash_amount_sum  s_cash_amount_count  \\\n",
       "1                  202.0        497892400.0                  1.0   \n",
       "2                  179.0        457216300.0                  5.0   \n",
       "3                  201.0        505419500.0                  3.0   \n",
       "4                  214.0        539274100.0                  6.0   \n",
       "5                  222.0        562892800.0                  2.0   \n",
       "..                   ...                ...                  ...   \n",
       "96                 208.0        508578500.0                  0.0   \n",
       "97                 191.0        443328700.0                  1.0   \n",
       "98                 187.0        468610000.0                  2.0   \n",
       "99                 182.0        431347100.0                  3.0   \n",
       "100                217.0        580785900.0                  2.0   \n",
       "\n",
       "     s_cash_amount_sum  \n",
       "1            2764000.0  \n",
       "2           18098000.0  \n",
       "3            8589800.0  \n",
       "4           16682400.0  \n",
       "5            5435500.0  \n",
       "..                 ...  \n",
       "96                 0.0  \n",
       "97           4635800.0  \n",
       "98           5157900.0  \n",
       "99          10525300.0  \n",
       "100          3329900.0  \n",
       "\n",
       "[100 rows x 4 columns]"
      ]
     },
     "execution_count": 428,
     "metadata": {},
     "output_type": "execute_result"
    }
   ],
   "source": [
    "features.loc[_df[_df[0]==1].index]"
   ]
  },
  {
   "cell_type": "markdown",
   "metadata": {},
   "source": [
    "> Note: 耗时39ms，但效果很差。"
   ]
  },
  {
   "cell_type": "code",
   "execution_count": null,
   "metadata": {},
   "outputs": [],
   "source": []
  },
  {
   "cell_type": "markdown",
   "metadata": {},
   "source": [
    "## 谱聚类模型"
   ]
  },
  {
   "cell_type": "code",
   "execution_count": 420,
   "metadata": {},
   "outputs": [
    {
     "name": "stdout",
     "output_type": "stream",
     "text": [
      "CPU times: user 19.1 s, sys: 18 s, total: 37.1 s\n",
      "Wall time: 6.64 s\n"
     ]
    }
   ],
   "source": [
    "%%time\n",
    "from sklearn.cluster import SpectralClustering\n",
    "\n",
    "y_pred = SpectralClustering(n_clusters=2).fit_predict(_features)"
   ]
  },
  {
   "cell_type": "code",
   "execution_count": 329,
   "metadata": {},
   "outputs": [
    {
     "data": {
      "application/vnd.jupyter.widget-view+json": {
       "model_id": "15e052c9526442fc98aea8a5cfc462eb",
       "version_major": 2,
       "version_minor": 0
      },
      "text/plain": [
       "VBox(children=(Figure(camera=PerspectiveCamera(fov=46.0, position=(0.0, 0.0, 2.0), quaternion=(0.0, 0.0, 0.0, …"
      ]
     },
     "metadata": {},
     "output_type": "display_data"
    }
   ],
   "source": [
    "from matplotlib import cm\n",
    "import ipyvolume as ipv\n",
    "\n",
    "df_res = _features.reset_index()\n",
    "# pd.Categorical(y_pred).codes\n",
    "colormap = cm.Spectral\n",
    "_c = [i*100 for i in pd.Categorical(y_pred).codes]\n",
    "color = colormap(_c)\n",
    "ipv.quickscatter(df_res[0], df_res[1], df_res[3], size=2, marker=\"sphere\", color=color[:,:3]) "
   ]
  },
  {
   "cell_type": "code",
   "execution_count": 421,
   "metadata": {},
   "outputs": [],
   "source": [
    "_df = pd.DataFrame(y_pred, index=_features.index)"
   ]
  },
  {
   "cell_type": "code",
   "execution_count": 424,
   "metadata": {},
   "outputs": [
    {
     "data": {
      "text/html": [
       "<div>\n",
       "<style scoped>\n",
       "    .dataframe tbody tr th:only-of-type {\n",
       "        vertical-align: middle;\n",
       "    }\n",
       "\n",
       "    .dataframe tbody tr th {\n",
       "        vertical-align: top;\n",
       "    }\n",
       "\n",
       "    .dataframe thead th {\n",
       "        text-align: right;\n",
       "    }\n",
       "</style>\n",
       "<table border=\"1\" class=\"dataframe\">\n",
       "  <thead>\n",
       "    <tr style=\"text-align: right;\">\n",
       "      <th></th>\n",
       "      <th>0</th>\n",
       "    </tr>\n",
       "  </thead>\n",
       "  <tbody>\n",
       "    <tr>\n",
       "      <th>1137</th>\n",
       "      <td>1</td>\n",
       "    </tr>\n",
       "  </tbody>\n",
       "</table>\n",
       "</div>"
      ],
      "text/plain": [
       "      0\n",
       "1137  1"
      ]
     },
     "execution_count": 424,
     "metadata": {},
     "output_type": "execute_result"
    }
   ],
   "source": [
    "_df[_df[0]==1]"
   ]
  },
  {
   "cell_type": "code",
   "execution_count": 423,
   "metadata": {},
   "outputs": [
    {
     "data": {
      "text/html": [
       "<div>\n",
       "<style scoped>\n",
       "    .dataframe tbody tr th:only-of-type {\n",
       "        vertical-align: middle;\n",
       "    }\n",
       "\n",
       "    .dataframe tbody tr th {\n",
       "        vertical-align: top;\n",
       "    }\n",
       "\n",
       "    .dataframe thead th {\n",
       "        text-align: right;\n",
       "    }\n",
       "</style>\n",
       "<table border=\"1\" class=\"dataframe\">\n",
       "  <thead>\n",
       "    <tr style=\"text-align: right;\">\n",
       "      <th></th>\n",
       "      <th>e_cash_amount_count</th>\n",
       "      <th>e_cash_amount_sum</th>\n",
       "      <th>s_cash_amount_count</th>\n",
       "      <th>s_cash_amount_sum</th>\n",
       "    </tr>\n",
       "  </thead>\n",
       "  <tbody>\n",
       "    <tr>\n",
       "      <th>1137</th>\n",
       "      <td>0.0</td>\n",
       "      <td>0.0</td>\n",
       "      <td>12.0</td>\n",
       "      <td>106665600.0</td>\n",
       "    </tr>\n",
       "  </tbody>\n",
       "</table>\n",
       "</div>"
      ],
      "text/plain": [
       "      e_cash_amount_count  e_cash_amount_sum  s_cash_amount_count  \\\n",
       "1137                  0.0                0.0                 12.0   \n",
       "\n",
       "      s_cash_amount_sum  \n",
       "1137        106665600.0  "
      ]
     },
     "execution_count": 423,
     "metadata": {},
     "output_type": "execute_result"
    }
   ],
   "source": [
    "features.loc[_df[_df[0]==1].index]"
   ]
  },
  {
   "cell_type": "markdown",
   "metadata": {},
   "source": [
    "![](ali_ant/spectral_res.png)"
   ]
  },
  {
   "cell_type": "markdown",
   "metadata": {},
   "source": [
    "> Note: 耗时6.46s，效果很好。"
   ]
  },
  {
   "cell_type": "code",
   "execution_count": null,
   "metadata": {},
   "outputs": [],
   "source": []
  },
  {
   "cell_type": "markdown",
   "metadata": {},
   "source": [
    "> Note: 异常数据为："
   ]
  },
  {
   "cell_type": "markdown",
   "metadata": {},
   "source": [
    "![](ali_ant/异常数据.png)"
   ]
  },
  {
   "cell_type": "code",
   "execution_count": null,
   "metadata": {},
   "outputs": [],
   "source": []
  },
  {
   "cell_type": "markdown",
   "metadata": {},
   "source": [
    "## IsolationForest方法"
   ]
  },
  {
   "cell_type": "code",
   "execution_count": 331,
   "metadata": {},
   "outputs": [],
   "source": [
    "features = _features"
   ]
  },
  {
   "cell_type": "code",
   "execution_count": 404,
   "metadata": {},
   "outputs": [
    {
     "name": "stdout",
     "output_type": "stream",
     "text": [
      "CPU times: user 616 ms, sys: 995 µs, total: 617 ms\n",
      "Wall time: 616 ms\n"
     ]
    }
   ],
   "source": [
    "%%time\n",
    "import numpy as np\n",
    "import matplotlib.pyplot as plt\n",
    "from sklearn.ensemble import IsolationForest\n",
    "from scipy import stats\n",
    "\n",
    "rng = np.random.RandomState(42)\n",
    " \n",
    "# 构造训练样本\n",
    "n_samples = features.shape[0]  #样本总数\n",
    "outliers_fraction = 1/n_samples  #异常样本比例\n",
    "\n",
    "clf = IsolationForest(max_samples=n_samples , random_state=rng, contamination=outliers_fraction)   # , random_state=rng, contamination=outliers_fraction\n",
    "clf.fit(features)\n",
    "# y_pred_train = clf.predict(X_train)\n",
    "scores_pred = clf.decision_function(features)\n",
    "threshold = stats.scoreatpercentile(scores_pred, 100 * outliers_fraction)  #根据训练样本中异常样本比例，得到阈值，用于绘图"
   ]
  },
  {
   "cell_type": "code",
   "execution_count": 396,
   "metadata": {},
   "outputs": [
    {
     "data": {
      "text/plain": [
       "array([0.19802162, 0.08466044, 0.21168621, ..., 0.38757413, 0.38741914,\n",
       "       0.42611375])"
      ]
     },
     "execution_count": 396,
     "metadata": {},
     "output_type": "execute_result"
    }
   ],
   "source": [
    "scores_pred"
   ]
  },
  {
   "cell_type": "code",
   "execution_count": 397,
   "metadata": {},
   "outputs": [
    {
     "data": {
      "text/plain": [
       "5.525365321529252e-17"
      ]
     },
     "execution_count": 397,
     "metadata": {},
     "output_type": "execute_result"
    }
   ],
   "source": [
    "threshold"
   ]
  },
  {
   "cell_type": "code",
   "execution_count": 398,
   "metadata": {},
   "outputs": [],
   "source": [
    "_df = pd.DataFrame(scores_pred)"
   ]
  },
  {
   "cell_type": "code",
   "execution_count": 405,
   "metadata": {},
   "outputs": [],
   "source": [
    "res = _df[_df[0] < threshold]"
   ]
  },
  {
   "cell_type": "code",
   "execution_count": 400,
   "metadata": {},
   "outputs": [
    {
     "data": {
      "text/html": [
       "<div>\n",
       "<style scoped>\n",
       "    .dataframe tbody tr th:only-of-type {\n",
       "        vertical-align: middle;\n",
       "    }\n",
       "\n",
       "    .dataframe tbody tr th {\n",
       "        vertical-align: top;\n",
       "    }\n",
       "\n",
       "    .dataframe thead th {\n",
       "        text-align: right;\n",
       "    }\n",
       "</style>\n",
       "<table border=\"1\" class=\"dataframe\">\n",
       "  <thead>\n",
       "    <tr style=\"text-align: right;\">\n",
       "      <th></th>\n",
       "      <th>e_cash_amount_count</th>\n",
       "      <th>e_cash_amount_sum</th>\n",
       "      <th>s_cash_amount_count</th>\n",
       "      <th>s_cash_amount_sum</th>\n",
       "    </tr>\n",
       "  </thead>\n",
       "  <tbody>\n",
       "    <tr>\n",
       "      <th>1137</th>\n",
       "      <td>0.0</td>\n",
       "      <td>0.0</td>\n",
       "      <td>12.0</td>\n",
       "      <td>106665600.0</td>\n",
       "    </tr>\n",
       "  </tbody>\n",
       "</table>\n",
       "</div>"
      ],
      "text/plain": [
       "      e_cash_amount_count  e_cash_amount_sum  s_cash_amount_count  \\\n",
       "1137                  0.0                0.0                 12.0   \n",
       "\n",
       "      s_cash_amount_sum  \n",
       "1137        106665600.0  "
      ]
     },
     "execution_count": 400,
     "metadata": {},
     "output_type": "execute_result"
    }
   ],
   "source": [
    "features.iloc[res.index]"
   ]
  },
  {
   "cell_type": "markdown",
   "metadata": {},
   "source": [
    "> Note: 效果：耗时616ms，结果准确。"
   ]
  },
  {
   "cell_type": "code",
   "execution_count": null,
   "metadata": {},
   "outputs": [],
   "source": []
  },
  {
   "cell_type": "markdown",
   "metadata": {},
   "source": [
    "## 模型比较\n",
    "\n",
    "从运行结果来看，三种模型里：\n",
    "\n",
    "- K-Means效果最差，其余两种效果很好；\n",
    "- 谱聚类模型性能比较差，运行时间是Isolation Forest模型的6倍。"
   ]
  },
  {
   "cell_type": "code",
   "execution_count": null,
   "metadata": {},
   "outputs": [],
   "source": []
  },
  {
   "cell_type": "markdown",
   "metadata": {},
   "source": [
    "# TODO\n",
    "\n",
    "- 降到二维/三维可视化展示聚类效果。"
   ]
  },
  {
   "cell_type": "code",
   "execution_count": null,
   "metadata": {},
   "outputs": [],
   "source": []
  },
  {
   "cell_type": "code",
   "execution_count": 401,
   "metadata": {},
   "outputs": [],
   "source": [
    "#hide\n",
    "import numpy as np\n",
    "import matplotlib.pyplot as plt\n",
    "from sklearn.ensemble import IsolationForest\n",
    "from scipy import stats\n",
    " \n",
    "rng = np.random.RandomState(42)\n",
    " \n",
    "# 构造训练样本\n",
    "n_samples = 200  #样本总数\n",
    "outliers_fraction = 0.25  #异常样本比例\n",
    "n_inliers = int((1. - outliers_fraction) * n_samples)\n",
    "n_outliers = int(outliers_fraction * n_samples)\n",
    " \n",
    "X = 0.3 * rng.randn(n_inliers // 2, 2)\n",
    "X_train = np.r_[X + 2, X - 2]   #正常样本\n",
    "X_train = np.r_[X_train, np.random.uniform(low=-6, high=6, size=(n_outliers, 2))]  #正常样本加上异常样本\n",
    " \n",
    "# fit the model\n",
    "clf = IsolationForest(max_samples=n_samples)     # , random_state=rng, contamination=outliers_fraction\n",
    "clf.fit(X_train)\n",
    "# y_pred_train = clf.predict(X_train)\n",
    "scores_pred = clf.decision_function(X_train)\n",
    "threshold = stats.scoreatpercentile(scores_pred, 100 * outliers_fraction)  #根据训练样本中异常样本比例，得到阈值，用于绘图\n",
    " \n",
    "# plot the line, the samples, and the nearest vectors to the plane\n",
    "xx, yy = np.meshgrid(np.linspace(-7, 7, 50), np.linspace(-7, 7, 50))\n",
    "Z = clf.decision_function(np.c_[xx.ravel(), yy.ravel()])\n",
    "Z = Z.reshape(xx.shape)\n"
   ]
  },
  {
   "cell_type": "code",
   "execution_count": 402,
   "metadata": {},
   "outputs": [
    {
     "data": {
      "image/png": "[encoded data removed]",
      "text/plain": [
       "<Figure size 432x288 with 1 Axes>"
      ]
     },
     "metadata": {
      "needs_background": "light"
     },
     "output_type": "display_data"
    }
   ],
   "source": [
    "#hide\n",
    "plt.title(\"IsolationForest\")\n",
    "# plt.contourf(xx, yy, Z, cmap=plt.cm.Blues_r)\n",
    "plt.contourf(xx, yy, Z, levels=np.linspace(Z.min(), threshold, 7), cmap=plt.cm.Blues_r)  #绘制异常点区域，值从最小的到阈值的那部分\n",
    "a = plt.contour(xx, yy, Z, levels=[threshold], linewidths=2, colors='red')  #绘制异常点区域和正常点区域的边界\n",
    "plt.contourf(xx, yy, Z, levels=[threshold, Z.max()], colors='palevioletred')  #绘制正常点区域，值从阈值到最大的那部分\n",
    " \n",
    "b = plt.scatter(X_train[:-n_outliers, 0], X_train[:-n_outliers, 1], c='white',\n",
    "                    s=20, edgecolor='k')\n",
    "c = plt.scatter(X_train[-n_outliers:, 0], X_train[-n_outliers:, 1], c='black',\n",
    "                    s=20, edgecolor='k')\n",
    "plt.axis('tight')\n",
    "plt.xlim((-7, 7))\n",
    "plt.ylim((-7, 7))\n",
    "plt.legend([a.collections[0], b, c],\n",
    "           ['learned decision function', 'true inliers', 'true outliers'],\n",
    "           loc=\"upper left\")\n",
    "plt.show()"
   ]
  },
  {
   "cell_type": "code",
   "execution_count": null,
   "metadata": {},
   "outputs": [],
   "source": []
  }
 ],
 "metadata": {
  "kernelspec": {
   "display_name": "Python 3",
   "language": "python",
   "name": "python3"
  },
  "language_info": {
   "codemirror_mode": {
    "name": "ipython",
    "version": 3
   },
   "file_extension": ".py",
   "mimetype": "text/x-python",
   "name": "python",
   "nbconvert_exporter": "python",
   "pygments_lexer": "ipython3",
   "version": "3.7.3"
  },
  "varInspector": {
   "cols": {
    "lenName": 16,
    "lenType": 16,
    "lenVar": 40
   },
   "kernels_config": {
    "python": {
     "delete_cmd_postfix": "",
     "delete_cmd_prefix": "del ",
     "library": "var_list.py",
     "varRefreshCmd": "print(var_dic_list())"
    },
    "r": {
     "delete_cmd_postfix": ") ",
     "delete_cmd_prefix": "rm(",
     "library": "var_list.r",
     "varRefreshCmd": "cat(var_dic_list()) "
    }
   },
   "types_to_exclude": [
    "module",
    "function",
    "builtin_function_or_method",
    "instance",
    "_Feature"
   ],
   "window_display": false
  }
 },
 "nbformat": 4,
 "nbformat_minor": 4
}
